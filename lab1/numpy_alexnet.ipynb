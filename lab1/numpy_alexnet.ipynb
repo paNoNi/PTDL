{
 "cells": [
  {
   "cell_type": "code",
   "execution_count": 1,
   "outputs": [
    {
     "data": {
      "text/plain": "OneHotEncoder()"
     },
     "execution_count": 1,
     "metadata": {},
     "output_type": "execute_result"
    }
   ],
   "source": [
    "import numpy as np\n",
    "\n",
    "from sklearn.datasets import fetch_openml\n",
    "from sklearn.model_selection import train_test_split\n",
    "from sklearn.preprocessing import StandardScaler, OneHotEncoder\n",
    "from sklearn.utils import check_random_state\n",
    "\n",
    "train_samples = 5_000\n",
    "\n",
    "# Load data from https://www.openml.org/d/554\n",
    "X, y = fetch_openml(\"mnist_784\", version=1, return_X_y=True, as_frame=False)\n",
    "random_state = check_random_state(0)\n",
    "permutation = random_state.permutation(X.shape[0])\n",
    "X = X[permutation].astype(np.float32)\n",
    "y = y[permutation].astype(np.float32)\n",
    "\n",
    "X_train, X_test, y_train, y_test = train_test_split(\n",
    "    X, y, train_size=train_samples, test_size=1000\n",
    ")\n",
    "\n",
    "y_train = y_train.astype(int)\n",
    "y_test = y_test.astype(int)\n",
    "\n",
    "scaler = StandardScaler()\n",
    "X_train = scaler.fit_transform(X_train)\n",
    "X_test = scaler.transform(X_test)\n",
    "\n",
    "X_train = np.reshape(X_train, newshape=[X_train.shape[0], 1, 28, 28])\n",
    "X_test = np.reshape(X_test, newshape=[X_test.shape[0], 1, 28, 28])\n",
    "\n",
    "ohe = OneHotEncoder()\n",
    "ohe.fit(y_train.reshape(-1, 1))\n",
    "# y_train = ohe.transform(y_train.reshape(-1, 1))\n",
    "# y_test = ohe.transform(y_test.reshape(-1, 1))"
   ],
   "metadata": {
    "collapsed": false,
    "pycharm": {
     "name": "#%%\n"
    }
   }
  },
  {
   "cell_type": "code",
   "execution_count": 2,
   "outputs": [
    {
     "data": {
      "text/plain": "<matplotlib.image.AxesImage at 0x12a4e8c9520>"
     },
     "execution_count": 2,
     "metadata": {},
     "output_type": "execute_result"
    },
    {
     "data": {
      "text/plain": "<Figure size 640x480 with 1 Axes>",
      "image/png": "[encoded data removed]"
     },
     "metadata": {},
     "output_type": "display_data"
    }
   ],
   "source": [
    "from matplotlib import pyplot as plt\n",
    "\n",
    "img = X_train[6].reshape([28, 28, 1]).copy()\n",
    "plt.imshow(img, cmap='gray')"
   ],
   "metadata": {
    "collapsed": false,
    "pycharm": {
     "name": "#%%\n"
    }
   }
  },
  {
   "cell_type": "code",
   "execution_count": 3,
   "outputs": [],
   "source": [
    "from lab1.numpy_src.layers import Conv2D\n",
    "from lab1.numpy_src.loss import CrossEntropyLoss\n",
    "from lab1.numpy_src.optim import AdaSmooth\n",
    "from lab1.numpy_src.models.alexnet import AlexNet\n",
    "\n",
    "model = AlexNet()"
   ],
   "metadata": {
    "collapsed": false,
    "pycharm": {
     "name": "#%%\n"
    }
   }
  },
  {
   "cell_type": "code",
   "execution_count": 4,
   "outputs": [
    {
     "data": {
      "text/plain": "array([[0.1, 0.1, 0.1, 0.1, 0.1, 0.1, 0.1, 0.1, 0.1, 0.1]])"
     },
     "execution_count": 4,
     "metadata": {},
     "output_type": "execute_result"
    }
   ],
   "source": [
    "model.train()\n",
    "out = model.forward(np.random.random((1, 3, 227, 227)))\n",
    "out"
   ],
   "metadata": {
    "collapsed": false,
    "pycharm": {
     "name": "#%%\n"
    }
   }
  },
  {
   "cell_type": "code",
   "execution_count": 6,
   "outputs": [],
   "source": [
    "cel = CrossEntropyLoss()\n",
    "crit = AdaSmooth(model.layers, lr=0.0005)"
   ],
   "metadata": {
    "collapsed": false,
    "pycharm": {
     "name": "#%%\n"
    }
   }
  },
  {
   "cell_type": "code",
   "execution_count": 8,
   "outputs": [],
   "source": [
    "from lab1.numpy_src.data import Dataset, Dataloader\n",
    "\n",
    "dataset_train = Dataset(data=X_train, target=y_train)\n",
    "dataloader_train = Dataloader(dataset=dataset_train, batch_size=8, shuffle=True)\n",
    "\n",
    "dataset_test = Dataset(data=X_test, target=y_test)\n",
    "dataloader_test = Dataloader(dataset=dataset_test, batch_size=8)"
   ],
   "metadata": {
    "collapsed": false,
    "pycharm": {
     "name": "#%%\n"
    }
   }
  },
  {
   "cell_type": "code",
   "execution_count": 9,
   "outputs": [
    {
     "name": "stderr",
     "output_type": "stream",
     "text": [
      "Train epoch: 1 | Loss: 1.3407220876930872: 100%|██████████| 625/625 [1:20:36<00:00,  7.74s/it]\n",
      "Test epoch: 1 | Accuracy 0.805: 100%|██████████| 125/125 [01:30<00:00,  1.38it/s]             \n",
      "Train epoch: 2 | Loss: 1.0409938222221986:   1%|          | 4/625 [00:44<1:54:19, 11.05s/it]\n"
     ]
    },
    {
     "ename": "KeyboardInterrupt",
     "evalue": "",
     "output_type": "error",
     "traceback": [
      "\u001B[1;31m---------------------------------------------------------------------------\u001B[0m",
      "\u001B[1;31mKeyboardInterrupt\u001B[0m                         Traceback (most recent call last)",
      "Input \u001B[1;32mIn [9]\u001B[0m, in \u001B[0;36m<cell line: 51>\u001B[1;34m()\u001B[0m\n\u001B[0;32m     49\u001B[0m             t\u001B[38;5;241m.\u001B[39mset_description(\u001B[38;5;124mf\u001B[39m\u001B[38;5;124m'\u001B[39m\u001B[38;5;124mTest epoch: \u001B[39m\u001B[38;5;132;01m{\u001B[39;00mepoch\u001B[38;5;132;01m}\u001B[39;00m\u001B[38;5;124m | Accuracy \u001B[39m\u001B[38;5;132;01m{\u001B[39;00macc \u001B[38;5;241m/\u001B[39m (j \u001B[38;5;241m+\u001B[39m \u001B[38;5;241m1\u001B[39m)\u001B[38;5;132;01m}\u001B[39;00m\u001B[38;5;124m'\u001B[39m)\n\u001B[0;32m     51\u001B[0m \u001B[38;5;28;01mfor\u001B[39;00m i \u001B[38;5;129;01min\u001B[39;00m \u001B[38;5;28mrange\u001B[39m(\u001B[38;5;241m15\u001B[39m):\n\u001B[1;32m---> 52\u001B[0m     \u001B[43mtrain_epoch\u001B[49m\u001B[43m(\u001B[49m\u001B[43mi\u001B[49m\u001B[43m \u001B[49m\u001B[38;5;241;43m+\u001B[39;49m\u001B[43m \u001B[49m\u001B[38;5;241;43m1\u001B[39;49m\u001B[43m)\u001B[49m\n\u001B[0;32m     53\u001B[0m     evaluate(i \u001B[38;5;241m+\u001B[39m \u001B[38;5;241m1\u001B[39m)\n",
      "Input \u001B[1;32mIn [9]\u001B[0m, in \u001B[0;36mtrain_epoch\u001B[1;34m(epoch)\u001B[0m\n\u001B[0;32m     30\u001B[0m full_loss \u001B[38;5;241m+\u001B[39m\u001B[38;5;241m=\u001B[39m loss\n\u001B[0;32m     31\u001B[0m model\u001B[38;5;241m.\u001B[39mbackward(grad)\n\u001B[1;32m---> 32\u001B[0m \u001B[43mcrit\u001B[49m\u001B[38;5;241;43m.\u001B[39;49m\u001B[43mupdate\u001B[49m\u001B[43m(\u001B[49m\u001B[43m)\u001B[49m\n\u001B[0;32m     33\u001B[0m t\u001B[38;5;241m.\u001B[39mupdate(\u001B[38;5;241m1\u001B[39m)\n\u001B[0;32m     34\u001B[0m t\u001B[38;5;241m.\u001B[39mset_description(\u001B[38;5;124mf\u001B[39m\u001B[38;5;124m'\u001B[39m\u001B[38;5;124mTrain epoch: \u001B[39m\u001B[38;5;132;01m{\u001B[39;00mepoch\u001B[38;5;132;01m}\u001B[39;00m\u001B[38;5;124m | Loss: \u001B[39m\u001B[38;5;132;01m{\u001B[39;00mfull_loss \u001B[38;5;241m/\u001B[39m (j \u001B[38;5;241m+\u001B[39m \u001B[38;5;241m1\u001B[39m)\u001B[38;5;132;01m}\u001B[39;00m\u001B[38;5;124m'\u001B[39m)\n",
      "File \u001B[1;32mC:\\MySpace\\Projects\\PTDL\\lab1\\numpy_src\\base.py:115\u001B[0m, in \u001B[0;36mOptimBase.update\u001B[1;34m(self)\u001B[0m\n\u001B[0;32m    114\u001B[0m \u001B[38;5;28;01mdef\u001B[39;00m \u001B[38;5;21mupdate\u001B[39m(\u001B[38;5;28mself\u001B[39m):\n\u001B[1;32m--> 115\u001B[0m     \u001B[38;5;28;43mself\u001B[39;49m\u001B[38;5;241;43m.\u001B[39;49m\u001B[43m_update_layers\u001B[49m\u001B[43m(\u001B[49m\u001B[38;5;28;43mself\u001B[39;49m\u001B[38;5;241;43m.\u001B[39;49m\u001B[43m_layers\u001B[49m\u001B[43m)\u001B[49m\n",
      "File \u001B[1;32mC:\\MySpace\\Projects\\PTDL\\lab1\\numpy_src\\base.py:120\u001B[0m, in \u001B[0;36mOptimBase._update_layers\u001B[1;34m(self, layers)\u001B[0m\n\u001B[0;32m    118\u001B[0m \u001B[38;5;28;01mfor\u001B[39;00m layer \u001B[38;5;129;01min\u001B[39;00m layers:\n\u001B[0;32m    119\u001B[0m     \u001B[38;5;28;01mif\u001B[39;00m \u001B[38;5;28misinstance\u001B[39m(layer, Sequential):\n\u001B[1;32m--> 120\u001B[0m         \u001B[38;5;28;43mself\u001B[39;49m\u001B[38;5;241;43m.\u001B[39;49m\u001B[43m_update_layers\u001B[49m\u001B[43m(\u001B[49m\u001B[43mlayer\u001B[49m\u001B[38;5;241;43m.\u001B[39;49m\u001B[43mlayers\u001B[49m\u001B[43m)\u001B[49m\n\u001B[0;32m    121\u001B[0m     \u001B[38;5;28;01melif\u001B[39;00m \u001B[38;5;28misinstance\u001B[39m(layer, Layer):\n\u001B[0;32m    122\u001B[0m         \u001B[38;5;28mself\u001B[39m\u001B[38;5;241m.\u001B[39m_update_layer(layer)\n",
      "File \u001B[1;32mC:\\MySpace\\Projects\\PTDL\\lab1\\numpy_src\\base.py:122\u001B[0m, in \u001B[0;36mOptimBase._update_layers\u001B[1;34m(self, layers)\u001B[0m\n\u001B[0;32m    120\u001B[0m     \u001B[38;5;28mself\u001B[39m\u001B[38;5;241m.\u001B[39m_update_layers(layer\u001B[38;5;241m.\u001B[39mlayers)\n\u001B[0;32m    121\u001B[0m \u001B[38;5;28;01melif\u001B[39;00m \u001B[38;5;28misinstance\u001B[39m(layer, Layer):\n\u001B[1;32m--> 122\u001B[0m     \u001B[38;5;28;43mself\u001B[39;49m\u001B[38;5;241;43m.\u001B[39;49m\u001B[43m_update_layer\u001B[49m\u001B[43m(\u001B[49m\u001B[43mlayer\u001B[49m\u001B[43m)\u001B[49m\n",
      "File \u001B[1;32mC:\\MySpace\\Projects\\PTDL\\lab1\\numpy_src\\optim.py:68\u001B[0m, in \u001B[0;36mAdaSmooth._update_layer\u001B[1;34m(self, layer)\u001B[0m\n\u001B[0;32m     65\u001B[0m         \u001B[38;5;28mself\u001B[39m\u001B[38;5;241m.\u001B[39mstate[\u001B[38;5;124m'\u001B[39m\u001B[38;5;124mdelta_data\u001B[39m\u001B[38;5;124m'\u001B[39m][layer_name][key] \u001B[38;5;241m=\u001B[39m \u001B[38;5;28;01mNone\u001B[39;00m\n\u001B[0;32m     66\u001B[0m         \u001B[38;5;28mself\u001B[39m\u001B[38;5;241m.\u001B[39mstate[\u001B[38;5;124m'\u001B[39m\u001B[38;5;124mEgs\u001B[39m\u001B[38;5;124m'\u001B[39m][layer_name][key] \u001B[38;5;241m=\u001B[39m \u001B[38;5;241m0\u001B[39m\n\u001B[1;32m---> 68\u001B[0m     cur_params[key][\u001B[38;5;124m'\u001B[39m\u001B[38;5;124mvalue\u001B[39m\u001B[38;5;124m'\u001B[39m] \u001B[38;5;241m=\u001B[39m \u001B[38;5;28;43mself\u001B[39;49m\u001B[38;5;241;43m.\u001B[39;49m\u001B[43m__update_one\u001B[49m\u001B[43m(\u001B[49m\u001B[43mcur_params\u001B[49m\u001B[43m[\u001B[49m\u001B[43mkey\u001B[49m\u001B[43m]\u001B[49m\u001B[43m,\u001B[49m\u001B[43m \u001B[49m\u001B[43mlayer_name\u001B[49m\u001B[43m,\u001B[49m\u001B[43m \u001B[49m\u001B[43mkey\u001B[49m\u001B[43m)\u001B[49m\n\u001B[0;32m     70\u001B[0m layer\u001B[38;5;241m.\u001B[39mupdate(cur_params)\n",
      "File \u001B[1;32mC:\\MySpace\\Projects\\PTDL\\lab1\\numpy_src\\optim.py:86\u001B[0m, in \u001B[0;36mAdaSmooth.__update_one\u001B[1;34m(self, params, layer_name, key)\u001B[0m\n\u001B[0;32m     84\u001B[0m e \u001B[38;5;241m=\u001B[39m np\u001B[38;5;241m.\u001B[39mdivide(abs_sum_x, sum_abs_x \u001B[38;5;241m+\u001B[39m \u001B[38;5;28mself\u001B[39m\u001B[38;5;241m.\u001B[39mconst[\u001B[38;5;124m'\u001B[39m\u001B[38;5;124meps\u001B[39m\u001B[38;5;124m'\u001B[39m])\n\u001B[0;32m     85\u001B[0m c2 \u001B[38;5;241m=\u001B[39m np\u001B[38;5;241m.\u001B[39mpower((\u001B[38;5;28mself\u001B[39m\u001B[38;5;241m.\u001B[39mconst[\u001B[38;5;124m'\u001B[39m\u001B[38;5;124mp2\u001B[39m\u001B[38;5;124m'\u001B[39m] \u001B[38;5;241m-\u001B[39m \u001B[38;5;28mself\u001B[39m\u001B[38;5;241m.\u001B[39mconst[\u001B[38;5;124m'\u001B[39m\u001B[38;5;124mp1\u001B[39m\u001B[38;5;124m'\u001B[39m]) \u001B[38;5;241m*\u001B[39m e \u001B[38;5;241m+\u001B[39m (\u001B[38;5;241m1\u001B[39m \u001B[38;5;241m-\u001B[39m \u001B[38;5;28mself\u001B[39m\u001B[38;5;241m.\u001B[39mconst[\u001B[38;5;124m'\u001B[39m\u001B[38;5;124mp2\u001B[39m\u001B[38;5;124m'\u001B[39m]), \u001B[38;5;241m2\u001B[39m)\n\u001B[1;32m---> 86\u001B[0m \u001B[38;5;28mself\u001B[39m\u001B[38;5;241m.\u001B[39mstate[\u001B[38;5;124m'\u001B[39m\u001B[38;5;124mEgs\u001B[39m\u001B[38;5;124m'\u001B[39m][layer_name][key] \u001B[38;5;241m=\u001B[39m \u001B[43mnp\u001B[49m\u001B[38;5;241;43m.\u001B[39;49m\u001B[43mmultiply\u001B[49m\u001B[43m(\u001B[49m\u001B[43mc2\u001B[49m\u001B[43m,\u001B[49m\u001B[43m \u001B[49m\u001B[43mnp\u001B[49m\u001B[38;5;241;43m.\u001B[39;49m\u001B[43mpower\u001B[49m\u001B[43m(\u001B[49m\u001B[43mgrad\u001B[49m\u001B[43m,\u001B[49m\u001B[43m \u001B[49m\u001B[38;5;241;43m2\u001B[39;49m\u001B[43m)\u001B[49m\u001B[43m)\u001B[49m\u001B[43m \u001B[49m\u001B[38;5;241;43m+\u001B[39;49m\u001B[43m \u001B[49m\u001B[43mnp\u001B[49m\u001B[38;5;241;43m.\u001B[39;49m\u001B[43mmultiply\u001B[49m\u001B[43m(\u001B[49m\u001B[43m(\u001B[49m\u001B[38;5;241;43m1\u001B[39;49m\u001B[43m \u001B[49m\u001B[38;5;241;43m-\u001B[39;49m\u001B[43m \u001B[49m\u001B[43mc2\u001B[49m\u001B[43m)\u001B[49m\u001B[43m,\u001B[49m\u001B[43m \u001B[49m\u001B[38;5;28;43mself\u001B[39;49m\u001B[38;5;241;43m.\u001B[39;49m\u001B[43mstate\u001B[49m\u001B[43m[\u001B[49m\u001B[38;5;124;43m'\u001B[39;49m\u001B[38;5;124;43mEgs\u001B[39;49m\u001B[38;5;124;43m'\u001B[39;49m\u001B[43m]\u001B[49m\u001B[43m[\u001B[49m\u001B[43mlayer_name\u001B[49m\u001B[43m]\u001B[49m\u001B[43m[\u001B[49m\u001B[43mkey\u001B[49m\u001B[43m]\u001B[49m\u001B[43m)\u001B[49m\n\u001B[0;32m     88\u001B[0m lregs \u001B[38;5;241m=\u001B[39m \u001B[38;5;28mself\u001B[39m\u001B[38;5;241m.\u001B[39mconst[\u001B[38;5;124m'\u001B[39m\u001B[38;5;124mlr\u001B[39m\u001B[38;5;124m'\u001B[39m] \u001B[38;5;241m/\u001B[39m (np\u001B[38;5;241m.\u001B[39msqrt(\u001B[38;5;28mself\u001B[39m\u001B[38;5;241m.\u001B[39mstate[\u001B[38;5;124m'\u001B[39m\u001B[38;5;124mEgs\u001B[39m\u001B[38;5;124m'\u001B[39m][layer_name][key] \u001B[38;5;241m+\u001B[39m \u001B[38;5;28mself\u001B[39m\u001B[38;5;241m.\u001B[39mconst[\u001B[38;5;124m'\u001B[39m\u001B[38;5;124meps\u001B[39m\u001B[38;5;124m'\u001B[39m]))\n\u001B[0;32m     90\u001B[0m delta_data \u001B[38;5;241m=\u001B[39m np\u001B[38;5;241m.\u001B[39mmultiply(grad, lregs)\n",
      "\u001B[1;31mKeyboardInterrupt\u001B[0m: "
     ]
    }
   ],
   "source": [
    "from tqdm import tqdm\n",
    "import cv2\n",
    "\n",
    "def accuracy(pred, true):\n",
    "    pred_int = np.argmax(pred, axis=1)\n",
    "    return np.sum(pred_int == true) / pred.shape[0]\n",
    "\n",
    "\n",
    "def convert_img(imgs):\n",
    "    new_imgs = list()\n",
    "    for img in imgs:\n",
    "        img = img.reshape((28, 28, 1))\n",
    "        img = np.concatenate([img, img, img], axis=2)\n",
    "        img = np.array(cv2.resize(img, dsize=(227, 227)), dtype='float64')\n",
    "        img = img.reshape(3, 227, 227)\n",
    "        new_imgs.append(np.expand_dims(img, axis=0))\n",
    "    return np.concatenate(new_imgs, axis=0)\n",
    "\n",
    "\n",
    "def train_epoch(epoch: int):\n",
    "    model.train()\n",
    "    full_loss = 0\n",
    "    with tqdm(total=len(dataloader_train)) as t:\n",
    "        for j, samples in enumerate(dataloader_train):\n",
    "            data, targets = samples\n",
    "            crit.zero_grad()\n",
    "            data = convert_img(data)\n",
    "            out = model.forward(data / 255)\n",
    "            lbl_ohe = np.zeros_like(out)\n",
    "            lbl_ohe[list(range(out.shape[0])), targets] = 1\n",
    "            loss, grad = cel(out, targets)\n",
    "            full_loss += loss\n",
    "            model.backward(grad)\n",
    "            crit.update()\n",
    "            t.update(1)\n",
    "            t.set_description(f'Train epoch: {epoch} | Loss: {full_loss / (j + 1)}')\n",
    "\n",
    "\n",
    "def evaluate(epoch: int):\n",
    "    acc = 0\n",
    "    model.eval()\n",
    "    with tqdm(total=len(dataloader_test)) as t:\n",
    "        for j, samples in enumerate(dataloader_test):\n",
    "            data, targets = samples\n",
    "            crit.zero_grad()\n",
    "            converted = convert_img(data)\n",
    "            # data = data.astype('float64')\n",
    "            # converted = data\n",
    "            out = model.forward(converted / 255)\n",
    "            acc += accuracy(out, targets)\n",
    "            t.update(1)\n",
    "            t.set_description(f'Test epoch: {epoch} | Accuracy {acc / (j + 1)}')\n",
    "\n",
    "\n",
    "for i in range(2):\n",
    "    train_epoch(i + 1)\n",
    "    evaluate(i + 1)"
   ],
   "metadata": {
    "collapsed": false,
    "pycharm": {
     "name": "#%%\n"
    }
   }
  },
  {
   "cell_type": "code",
   "execution_count": null,
   "outputs": [],
   "source": [
    "import numpy as np\n",
    "\n",
    "test_arr = np.random.randn(1, 1, 28, 28)\n",
    "grad_arr = np.random.randn(1, 3, 28, 28)\n",
    "\n",
    "np_conv = Conv2D(name='conv_test', in_channels=1, out_channels=3, kernel_size=3, stride=1, padding=1)\n",
    "np_conv.forward(test_arr)\n",
    "np_grad = np_conv.backward(grad_arr)\n",
    "\n",
    "from torch import nn\n",
    "import torch\n",
    "\n",
    "torch_conv = nn.Conv2d(in_channels=1, out_channels=3, kernel_size=3, stride=1, padding=1)\n",
    "torch_out = torch_conv(torch.autograd.Variable(torch.tensor(test_arr, dtype=torch.float32, requires_grad=True)))\n",
    "loss = torch_out - torch.zeros_like(torch_out)\n",
    "loss.backward()\n",
    "np_grad.shape, torch_out.grad"
   ],
   "metadata": {
    "collapsed": false,
    "pycharm": {
     "name": "#%%\n"
    }
   }
  },
  {
   "cell_type": "code",
   "execution_count": null,
   "outputs": [],
   "source": [
    "k = 465\n",
    "\n",
    "model.eval()\n",
    "# print(convert_img(X_test[k]).shape)\n",
    "out = model.forward(convert_img(X_test[k]).astype('float64') / 255)\n",
    "out.argmax(), y_test[k]"
   ],
   "metadata": {
    "collapsed": false,
    "pycharm": {
     "name": "#%%\n"
    }
   }
  }
 ],
 "metadata": {
  "kernelspec": {
   "display_name": "Python 3",
   "language": "python",
   "name": "python3"
  },
  "language_info": {
   "codemirror_mode": {
    "name": "ipython",
    "version": 2
   },
   "file_extension": ".py",
   "mimetype": "text/x-python",
   "name": "python",
   "nbconvert_exporter": "python",
   "pygments_lexer": "ipython2",
   "version": "2.7.6"
  }
 },
 "nbformat": 4,
 "nbformat_minor": 0
}