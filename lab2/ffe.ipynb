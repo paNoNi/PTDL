{
 "cells": [
  {
   "cell_type": "code",
   "execution_count": 2,
   "outputs": [],
   "source": [
    "import numpy as np\n",
    "from torchvision.models.swin_transformer import swin_b, Swin_B_Weights\n",
    "import torch"
   ],
   "metadata": {
    "collapsed": false,
    "pycharm": {
     "name": "#%%\n"
    }
   }
  },
  {
   "cell_type": "code",
   "execution_count": 3,
   "outputs": [],
   "source": [
    "model = swin_b(weights=Swin_B_Weights.IMAGENET1K_V1)"
   ],
   "metadata": {
    "collapsed": false,
    "pycharm": {
     "name": "#%%\n"
    }
   }
  },
  {
   "cell_type": "code",
   "execution_count": 4,
   "outputs": [
    {
     "data": {
      "text/plain": "torch.Size([1, 1000])"
     },
     "execution_count": 4,
     "metadata": {},
     "output_type": "execute_result"
    }
   ],
   "source": [
    "model(torch.randn((1, 3, 224, 224))).shape"
   ],
   "metadata": {
    "collapsed": false,
    "pycharm": {
     "name": "#%%\n"
    }
   }
  },
  {
   "cell_type": "code",
   "execution_count": 5,
   "outputs": [
    {
     "data": {
      "text/plain": "torch.Size([1, 7, 1, 1])"
     },
     "execution_count": 5,
     "metadata": {},
     "output_type": "execute_result"
    }
   ],
   "source": [
    "torch.nn.Sequential(*list(model.children())[:-1])(torch.randn((1, 3, 224, 224))).shape"
   ],
   "metadata": {
    "collapsed": false,
    "pycharm": {
     "name": "#%%\n"
    }
   }
  },
  {
   "cell_type": "code",
   "execution_count": 6,
   "outputs": [
    {
     "data": {
      "text/plain": "torch.Size([1, 1024])"
     },
     "execution_count": 6,
     "metadata": {},
     "output_type": "execute_result"
    }
   ],
   "source": [
    "model.head = torch.nn.Identity()\n",
    "model(torch.randn((1, 3, 224, 224))).shape"
   ],
   "metadata": {
    "collapsed": false,
    "pycharm": {
     "name": "#%%\n"
    }
   }
  },
  {
   "cell_type": "code",
   "execution_count": 7,
   "outputs": [],
   "source": [
    "from dataset import YouTubeDataset, download_videos\n",
    "\n",
    "# download_videos('data\\\\youtube.csv', 'data\\\\videos')"
   ],
   "metadata": {
    "collapsed": false,
    "pycharm": {
     "name": "#%%\n"
    }
   }
  },
  {
   "cell_type": "code",
   "execution_count": 8,
   "outputs": [],
   "source": [
    "ytdataset = YouTubeDataset(root='data')\n",
    "# ytdataset.download_videos()"
   ],
   "metadata": {
    "collapsed": false,
    "pycharm": {
     "name": "#%%\n"
    }
   }
  },
  {
   "cell_type": "code",
   "execution_count": 9,
   "outputs": [
    {
     "name": "stdout",
     "output_type": "stream",
     "text": [
      "3370 7\n"
     ]
    }
   ],
   "source": [
    "import cv2\n",
    "\n",
    "cap = cv2.VideoCapture(\n",
    "    \"data/videos/art_music/(484) Marianas Bloom Swipe! Fantasy Acrylic Pour Painting! Harmony House Art.3gpp\")\n",
    "length = int(cap.get(cv2.CAP_PROP_FRAME_COUNT))\n",
    "fps = int(cap.get(cv2.CAP_PROP_FPS))\n",
    "print(length, fps)"
   ],
   "metadata": {
    "collapsed": false,
    "pycharm": {
     "name": "#%%\n"
    }
   }
  },
  {
   "cell_type": "code",
   "execution_count": 1,
   "outputs": [
    {
     "name": "stdout",
     "output_type": "stream",
     "text": [
      "Found directories/labels: art_music, food, history, travel\n"
     ]
    },
    {
     "name": "stderr",
     "output_type": "stream",
     "text": [
      "Progress: 0/1732:  94%|█████████▎| 410/438 [00:29<00:02, 13.89it/s, Video category: travel]\n",
      "Progress: 1/1732:  92%|█████████▏| 610/664 [00:38<00:03, 15.81it/s, Video category: travel]\n",
      "Progress: 2/1732:  90%|█████████ | 312/345 [00:20<00:02, 15.54it/s, Video category: food]\n",
      "Progress: 3/1732:  94%|█████████▎| 237/253 [00:14<00:00, 16.28it/s, Video category: travel]\n",
      "  0%|          | 0/16858 [00:00<?, ?it/s]\n",
      "Progress: 4/1732:  96%|█████████▌| 274/285 [00:16<00:00, 16.27it/s, Video category: food]\n",
      "Progress: 5/1732:  94%|█████████▍| 200/213 [00:12<00:00, 16.42it/s, Video category: travel]\n",
      "Progress: 6/1732:  94%|█████████▎| 726/776 [00:44<00:03, 16.39it/s, Video category: history]\n",
      "  0%|          | 0/1890 [00:00<?, ?it/s]\n",
      "Progress: 7/1732:  94%|█████████▎| 870/930 [00:54<00:03, 16.00it/s, Video category: travel]\n",
      "Progress: 8/1732:  96%|█████████▌| 782/816 [00:48<00:02, 16.04it/s, Video category: history]\n",
      "Progress: 9/1732:  93%|█████████▎| 2025/2166 [02:05<00:08, 16.08it/s, Video category: food]\n",
      "Progress: 10/1732:  93%|█████████▎| 951/1019 [01:02<00:04, 15.27it/s, Video category: food]\n",
      "  0%|          | 0/4332 [00:00<?, ?it/s]\n",
      "Progress: 11/1732:  93%|█████████▎| 1027/1099 [01:06<00:04, 15.50it/s, Video category: travel]\n",
      "Progress: 12/1732:  96%|█████████▋| 218/226 [00:13<00:00, 15.81it/s, Video category: art_music]\n",
      "Progress: 13/1732:  94%|█████████▍| 185/197 [00:11<00:00, 16.09it/s, Video category: art_music]\n",
      "Progress: 14/1732:  94%|█████████▎| 1057/1130 [01:05<00:04, 16.17it/s, Video category: travel]\n",
      "Progress: 15/1732:  92%|█████████▏| 856/928 [00:54<00:04, 15.85it/s, Video category: food]\n",
      "Progress: 16/1732:  96%|█████████▌| 1577/1642 [01:38<00:04, 15.95it/s, Video category: art_music]\n",
      "Progress: 17/1732:  94%|█████████▎| 293/313 [00:18<00:01, 15.55it/s, Video category: travel]\n",
      "Progress: 18/1732: 100%|██████████| 86/86 [00:05<00:00, 15.43it/s, Video category: travel]\n",
      "Progress: 19/1732:  92%|█████████▏| 1058/1152 [01:06<00:05, 15.83it/s, Video category: travel]\n",
      "Progress: 20/1732:  93%|█████████▎| 534/576 [00:33<00:02, 16.00it/s, Video category: food]\n",
      "  0%|          | 0/9202 [00:00<?, ?it/s]\n",
      "Progress: 21/1732:  96%|█████████▌| 467/487 [00:28<00:01, 16.14it/s, Video category: travel]\n",
      "Progress: 22/1732:  95%|█████████▍| 18/19 [00:01<00:00, 15.51it/s, Video category: food]\n",
      "Progress: 23/1732:  93%|█████████▎| 2281/2443 [02:22<00:10, 15.96it/s, Video category: art_music]\n",
      "Progress: 24/1732:  94%|█████████▍| 205/218 [00:12<00:00, 15.81it/s, Video category: food]\n",
      "  0%|          | 0/45962 [00:00<?, ?it/s]\n",
      "Progress: 25/1732: 183it [00:11, 15.72it/s, Video category: art_music]                         \n",
      "Progress: 26/1732:  96%|█████████▌| 641/667 [00:40<00:01, 15.97it/s, Video category: history]\n",
      "Progress: 27/1732:  93%|█████████▎| 1708/1837 [01:47<00:08, 15.94it/s, Video category: travel]\n",
      "Progress: 28/1732:  95%|█████████▍| 108/114 [00:06<00:00, 15.76it/s, Video category: art_music]\n",
      "Progress: 29/1732:  93%|█████████▎| 852/916 [00:53<00:04, 15.94it/s, Video category: travel]\n",
      "Progress: 30/1732:  94%|█████████▎| 314/335 [00:19<00:01, 15.88it/s, Video category: food]\n",
      "  0%|          | 0/6539 [00:00<?, ?it/s]\n",
      "Progress: 31/1732:  93%|█████████▎| 522/560 [00:33<00:02, 15.58it/s, Video category: food]\n",
      "Progress: 32/1732:  94%|█████████▎| 909/972 [00:57<00:03, 15.86it/s, Video category: food]\n",
      "Progress: 33/1732:  93%|█████████▎| 869/931 [00:54<00:03, 15.97it/s, Video category: travel]\n",
      "Progress: 34/1732:  92%|█████████▎| 185/200 [00:11<00:00, 16.10it/s, Video category: art_music]\n",
      "Progress: 35/1732:  90%|█████████ | 394/436 [00:24<00:02, 16.14it/s, Video category: travel]\n",
      "Progress: 36/1732:  96%|█████████▌| 1277/1332 [01:20<00:03, 15.96it/s, Video category: food]\n",
      "Progress: 37/1732:  96%|█████████▋| 165/171 [00:10<00:00, 15.85it/s, Video category: art_music]\n",
      "Progress: 38/1732:  95%|█████████▍| 669/706 [00:41<00:02, 16.26it/s, Video category: history]\n",
      "Progress: 39/1732:  93%|█████████▎| 1324/1418 [01:23<00:05, 15.91it/s, Video category: travel]\n",
      "Progress: 40/1732:  94%|█████████▎| 841/899 [00:52<00:03, 15.97it/s, Video category: travel]\n",
      "  0%|          | 0/7146 [00:00<?, ?it/s]\n",
      "Progress: 41/1732:  96%|█████████▌| 2166/2255 [02:16<00:05, 15.90it/s, Video category: art_music]\n",
      "Progress: 42/1732:  96%|█████████▋| 374/388 [00:23<00:00, 15.93it/s, Video category: history]\n",
      "Progress: 43/1732:  92%|█████████▏| 325/354 [00:20<00:01, 15.84it/s, Video category: history]\n",
      "Progress: 44/1732:  93%|█████████▎| 718/768 [00:44<00:03, 16.01it/s, Video category: food]\n",
      "  0%|          | 0/3432 [00:00<?, ?it/s]\n",
      "Progress: 45/1732:  93%|█████████▎| 961/1029 [01:00<00:04, 15.97it/s, Video category: history]\n",
      "Progress: 46/1732:  92%|█████████▏| 755/822 [00:47<00:04, 15.80it/s, Video category: history]\n",
      "  0%|          | 0/4951 [00:00<?, ?it/s]\n",
      "Progress: 47/1732: 100%|██████████| 310/310 [00:19<00:00, 16.10it/s, Video category: travel]\n",
      "Progress: 48/1732: 100%|█████████▉| 986/987 [01:02<00:00, 15.81it/s, Video category: travel]\n",
      "Progress: 49/1732:  92%|█████████▏| 422/459 [00:26<00:02, 15.69it/s, Video category: food]\n",
      "Progress: 50/1732:  93%|█████████▎| 933/999 [00:59<00:04, 15.72it/s, Video category: travel]\n",
      "Progress: 51/1732:  96%|█████████▌| 886/922 [00:55<00:02, 15.99it/s, Video category: food]\n",
      "Progress: 52/1732:  93%|█████████▎| 713/763 [00:45<00:03, 15.80it/s, Video category: food]\n",
      "Progress: 53/1732:  95%|█████████▍| 55/58 [00:03<00:00, 15.83it/s, Video category: history]\n",
      "Progress: 54/1732:  95%|█████████▍| 54/57 [00:03<00:00, 15.86it/s, Video category: travel]\n",
      "Progress: 55/1732:  96%|█████████▌| 759/791 [00:47<00:01, 16.03it/s, Video category: history]\n",
      "Progress: 56/1732:  93%|█████████▎| 1201/1286 [01:15<00:05, 15.85it/s, Video category: food]\n",
      "  0%|          | 0/2625 [00:00<?, ?it/s]\n",
      "Progress: 57/1732:  96%|█████████▌| 593/618 [00:37<00:01, 15.89it/s, Video category: history]\n",
      "Progress: 58/1732:  92%|█████████▏| 1206/1310 [01:16<00:06, 15.86it/s, Video category: travel]\n",
      "Progress: 59/1732:  93%|█████████▎| 260/279 [00:16<00:01, 15.73it/s, Video category: food]\n",
      "Progress: 60/1732:  92%|█████████▏| 806/877 [00:51<00:04, 15.73it/s, Video category: travel]\n",
      "Progress: 61/1732:  96%|█████████▋| 219/227 [00:13<00:00, 15.72it/s, Video category: history]\n",
      "  0%|          | 0/4307 [00:00<?, ?it/s]\n",
      "Progress: 62/1732:  92%|█████████▏| 264/286 [00:16<00:01, 15.76it/s, Video category: art_music]\n",
      "Progress: 63/1732:  93%|█████████▎| 996/1069 [01:03<00:04, 15.74it/s, Video category: food]\n",
      "Progress: 64/1732:  93%|█████████▎| 741/800 [00:46<00:03, 15.89it/s, Video category: art_music]\n",
      "Progress: 65/1732:  94%|█████████▎| 521/556 [00:32<00:02, 15.90it/s, Video category: food]\n",
      "Progress: 66/1732:  96%|█████████▌| 24/25 [00:01<00:00, 16.40it/s, Video category: food]\n",
      "Progress: 67/1732:  93%|█████████▎| 2353/2518 [02:27<00:10, 15.93it/s, Video category: food]\n",
      "Progress: 68/1732:  94%|█████████▎| 781/835 [00:48<00:03, 16.03it/s, Video category: history]\n",
      "Progress: 69/1732:  96%|█████████▌| 1115/1164 [01:10<00:03, 15.90it/s, Video category: travel]\n",
      "Progress: 70/1732:  94%|█████████▍| 228/243 [00:14<00:00, 16.09it/s, Video category: art_music]\n",
      "Progress: 71/1732:  93%|█████████▎| 1462/1565 [01:31<00:06, 15.99it/s, Video category: history]\n",
      "Progress: 72/1732:  93%|█████████▎| 1643/1775 [01:44<00:08, 15.77it/s, Video category: food]\n",
      "Progress: 73/1732:  93%|█████████▎| 510/546 [00:32<00:02, 15.76it/s, Video category: travel]\n",
      "Progress: 74/1732:  94%|█████████▎| 607/648 [00:38<00:02, 15.69it/s, Video category: history]\n",
      "Progress: 75/1732:  92%|█████████▏| 1015/1103 [01:04<00:05, 15.69it/s, Video category: food]\n",
      "Progress: 76/1732:  96%|█████████▌| 581/605 [00:36<00:01, 15.94it/s, Video category: travel]\n",
      "Progress: 77/1732:  94%|█████████▎| 1313/1404 [01:23<00:05, 15.74it/s, Video category: food]\n",
      "Progress: 78/1732:  92%|█████████▏| 776/844 [00:49<00:04, 15.82it/s, Video category: travel]\n",
      "Progress: 79/1732:  92%|█████████▏| 601/653 [00:37<00:03, 15.95it/s, Video category: food]\n",
      "Progress: 80/1732:  96%|█████████▌| 551/573 [00:34<00:01, 15.97it/s, Video category: travel]\n",
      "Progress: 81/1732:  93%|█████████▎| 2140/2302 [02:13<00:10, 15.98it/s, Video category: history]\n",
      "Progress: 82/1732:  92%|█████████▏| 759/826 [00:48<00:04, 15.67it/s, Video category: travel]\n",
      "Progress: 83/1732:  92%|█████████▏| 675/735 [00:42<00:03, 15.86it/s, Video category: food]\n",
      "Progress: 84/1732:  94%|█████████▎| 288/308 [00:18<00:01, 15.85it/s, Video category: travel]\n",
      "Progress: 85/1732:  96%|█████████▌| 498/518 [00:31<00:01, 15.96it/s, Video category: travel]\n",
      "Progress: 86/1732:  94%|█████████▎| 395/422 [00:24<00:01, 15.90it/s, Video category: food]\n",
      "Progress: 87/1732:  93%|█████████▎| 467/500 [00:29<00:02, 15.81it/s, Video category: travel]\n",
      "Progress: 88/1732:  96%|█████████▌| 351/365 [00:21<00:00, 15.99it/s, Video category: art_music]\n",
      "Progress: 89/1732:  96%|█████████▌| 2409/2508 [02:30<00:06, 15.97it/s, Video category: history]\n",
      "Progress: 90/1732:  94%|█████████▎| 728/777 [00:48<00:03, 15.02it/s, Video category: travel]\n",
      "Progress: 91/1732:  94%|█████████▎| 1784/1908 [01:53<00:07, 15.73it/s, Video category: history]\n",
      "Progress: 92/1732:  94%|█████████▎| 371/396 [00:22<00:01, 16.23it/s, Video category: history]\n",
      "Progress: 93/1732:  94%|█████████▎| 334/357 [00:21<00:01, 15.69it/s, Video category: travel]\n",
      "Progress: 94/1732:  93%|█████████▎| 732/783 [00:45<00:03, 15.94it/s, Video category: food]\n",
      "Progress: 95/1732:  90%|█████████ | 297/329 [00:18<00:01, 16.06it/s, Video category: history]\n",
      "Progress: 96/1732:  92%|█████████▏| 197/214 [00:12<00:01, 15.65it/s, Video category: art_music]\n",
      "Progress: 97/1732:  96%|█████████▌| 694/724 [00:44<00:01, 15.73it/s, Video category: travel]\n",
      "Progress: 98/1732:  97%|█████████▋| 38/39 [00:02<00:00, 15.12it/s, Video category: travel]\n",
      "  0%|          | 0/1830 [00:00<?, ?it/s]\n",
      "Progress: 99/1732:  93%|█████████▎| 833/891 [00:52<00:03, 15.80it/s, Video category: travel]\n",
      "Progress: 100/1732:  96%|█████████▌| 384/399 [00:23<00:00, 16.33it/s, Video category: history]\n",
      "Progress: 101/1732:  97%|█████████▋| 666/688 [00:41<00:01, 15.96it/s, Video category: art_music]\n",
      "Progress: 102/1732: 291it [00:18, 15.70it/s, Video category: history]                         \n",
      "Progress: 103/1732:  94%|█████████▎| 904/966 [00:57<00:03, 15.74it/s, Video category: food]\n",
      "Progress: 104/1732:  94%|█████████▎| 820/877 [00:51<00:03, 15.86it/s, Video category: food]\n",
      "Progress: 105/1732:  93%|█████████▎| 1012/1084 [01:03<00:04, 15.93it/s, Video category: food]\n",
      "Progress: 106/1732:  93%|█████████▎| 1842/1973 [01:56<00:08, 15.77it/s, Video category: food]\n",
      "Progress: 107/1732:  92%|█████████▏| 838/911 [00:55<00:04, 15.08it/s, Video category: history]\n",
      "Progress: 108/1732:  93%|█████████▎| 1479/1584 [01:35<00:06, 15.55it/s, Video category: travel]\n"
     ]
    },
    {
     "name": "stdout",
     "output_type": "stream",
     "text": [
      "Error opening video stream or file: data/videos/history\\AskAbhijit 2 Indian History China Quantum Mechanics String Theory Sanskrit.3gpp\n"
     ]
    },
    {
     "name": "stderr",
     "output_type": "stream",
     "text": [
      "Progress: 109/1732:  94%|█████████▎| 541/578 [00:33<00:02, 16.25it/s, Video category: travel]\n",
      "Progress: 110/1732:  94%|█████████▎| 696/744 [00:42<00:02, 16.27it/s, Video category: travel]\n",
      "Progress: 111/1732:  96%|█████████▌| 323/337 [00:20<00:00, 16.13it/s, Video category: art_music]\n",
      "Progress: 112/1732:  96%|█████████▌| 1472/1539 [01:30<00:04, 16.22it/s, Video category: travel]\n",
      "Progress: 113/1732:  94%|█████████▎| 727/777 [00:45<00:03, 16.09it/s, Video category: travel]\n",
      "Progress: 114/1732:  96%|█████████▋| 295/306 [00:18<00:00, 16.22it/s, Video category: art_music]\n",
      "Progress: 115/1732:  96%|█████████▌| 401/417 [00:25<00:01, 15.98it/s, Video category: history]\n",
      "Progress: 116/1732:  93%|█████████▎| 1180/1264 [01:14<00:05, 15.84it/s, Video category: food]\n",
      "  0%|          | 0/22855 [00:00<?, ?it/s]\n",
      "Progress: 117/1732:  96%|█████████▌| 714/743 [00:45<00:01, 15.78it/s, Video category: travel]\n",
      "Progress: 118/1732:  92%|█████████▏| 1908/2071 [01:59<00:10, 16.02it/s, Video category: travel]\n",
      "Progress: 119/1732:  93%|█████████▎| 499/534 [00:30<00:02, 16.20it/s, Video category: food]\n",
      "Progress: 120/1732:  93%|█████████▎| 699/751 [00:43<00:03, 16.19it/s, Video category: travel]\n",
      "Progress: 121/1732:  94%|█████████▎| 964/1031 [01:00<00:04, 15.83it/s, Video category: travel]\n",
      "  0%|          | 0/4372 [00:00<?, ?it/s]\n",
      "Progress: 122/1732:  92%|█████████▏| 918/998 [00:59<00:05, 15.45it/s, Video category: history]\n",
      "  0%|          | 0/22749 [00:00<?, ?it/s]\n",
      "Progress: 123/1732:  94%|█████████▎| 377/403 [00:24<00:01, 15.65it/s, Video category: food]\n",
      "Progress: 124/1732:  94%|█████████▎| 308/329 [00:19<00:01, 15.90it/s, Video category: food]\n",
      "Progress: 125/1732:  92%|█████████▏| 629/685 [00:40<00:03, 15.68it/s, Video category: travel]\n",
      "Progress: 126/1732:  93%|█████████▎| 949/1016 [00:59<00:04, 15.99it/s, Video category: travel]\n",
      "Progress: 127/1732:  94%|█████████▎| 814/870 [00:52<00:03, 15.58it/s, Video category: travel]\n",
      "Progress: 128/1732:  94%|█████████▍| 229/244 [00:16<00:01, 14.23it/s, Video category: travel]\n",
      "Progress: 129/1732:  92%|█████████▏| 1233/1342 [01:25<00:07, 14.49it/s, Video category: food]\n",
      "Progress: 130/1732:  94%|█████████▎| 724/773 [00:49<00:03, 14.72it/s, Video category: history]\n",
      "Progress: 131/1732:  93%|█████████▎| 1046/1119 [01:09<00:04, 15.16it/s, Video category: travel]\n",
      "Progress: 132/1732:  96%|█████████▌| 570/595 [00:38<00:01, 14.79it/s, Video category: history]\n",
      "Progress: 133/1732:  96%|█████████▋| 374/388 [00:25<00:00, 14.93it/s, Video category: history]\n",
      "Progress: 134/1732:  94%|█████████▎| 723/773 [00:56<00:03, 12.76it/s, Video category: food]\n",
      "Progress: 135/1732:  93%|█████████▎| 904/967 [01:11<00:04, 12.66it/s, Video category: travel]\n",
      "Progress: 136/1732:  92%|█████████▏| 771/839 [02:10<00:11,  5.92it/s, Video category: travel]\n",
      "Progress: 137/1732:  96%|█████████▌| 1031/1073 [04:15<00:10,  4.04it/s, Video category: food]\n",
      "Progress: 138/1732:  92%|█████████▏| 823/897 [03:19<00:17,  4.13it/s, Video category: history]\n",
      "Progress: 139/1732:  94%|█████████▎| 648/692 [02:32<00:10,  4.26it/s, Video category: travel]\n",
      "Progress: 140/1732:  97%|█████████▋| 35/36 [00:07<00:00,  4.49it/s, Video category: food]\n",
      "Progress: 141/1732: 100%|██████████| 808/808 [03:24<00:00,  3.94it/s, Video category: travel]\n",
      "Progress: 142/1732:  94%|█████████▎| 807/863 [03:19<00:13,  4.04it/s, Video category: travel]\n",
      "  0%|          | 0/3013 [00:00<?, ?it/s]\n",
      "Progress: 143/1732:  93%|█████████▎| 1105/1183 [04:07<00:17,  4.46it/s, Video category: travel]\n",
      "Progress: 144/1732:  96%|█████████▌| 271/282 [01:08<00:02,  3.97it/s, Video category: art_music]\n",
      "Progress: 145/1732:  92%|█████████▏| 1335/1454 [05:49<00:31,  3.82it/s, Video category: art_music]\n",
      "Progress: 146/1732:  96%|█████████▋| 257/267 [01:05<00:02,  3.93it/s, Video category: art_music]\n",
      "Progress: 147/1732:  93%|█████████▎| 818/876 [03:29<00:14,  3.90it/s, Video category: travel]\n",
      "Progress: 148/1732:  96%|█████████▌| 194/202 [00:45<00:01,  4.31it/s, Video category: art_music]\n",
      "Progress: 149/1732:  93%|█████████▎| 608/651 [02:24<00:10,  4.20it/s, Video category: history]\n",
      "Progress: 150/1732:  92%|█████████▏| 707/770 [02:41<00:14,  4.38it/s, Video category: travel]\n",
      "  0%|          | 0/3642 [00:00<?, ?it/s]\n",
      "  0%|          | 0/2878 [00:00<?, ?it/s]\n",
      "Progress: 151/1732:  93%|█████████▎| 606/651 [02:41<00:11,  3.75it/s, Video category: history]\n",
      "Progress: 152/1732:  94%|█████████▎| 261/279 [01:04<00:04,  4.03it/s, Video category: art_music]\n",
      "Progress: 153/1732:  94%|█████████▍| 51/54 [00:10<00:00,  4.72it/s, Video category: travel]\n",
      "Progress: 154/1732:  96%|█████████▋| 493/512 [02:04<00:04,  3.96it/s, Video category: travel]\n",
      "Progress: 155/1732:  93%|█████████▎| 852/912 [02:44<00:11,  5.17it/s, Video category: travel]\n",
      "Progress: 156/1732:  94%|█████████▍| 285/304 [00:38<00:02,  7.36it/s, Video category: travel]\n",
      "  0%|          | 0/2691 [00:00<?, ?it/s]\n",
      "Progress: 157/1732:  96%|█████████▋| 213/221 [00:31<00:01,  6.72it/s, Video category: travel]\n",
      "Progress: 158/1732:  93%|█████████▎| 802/859 [01:46<00:07,  7.53it/s, Video category: travel]\n",
      "  0%|          | 0/6089 [00:00<?, ?it/s]\n",
      "Progress: 159/1732:  94%|█████████▎| 691/738 [01:28<00:06,  7.78it/s, Video category: food]\n",
      "Progress: 160/1732:  92%|█████████▏| 870/948 [01:47<00:09,  8.10it/s, Video category: travel]\n",
      "  0%|          | 0/3072 [00:00<?, ?it/s]\n",
      "Progress: 161/1732:  93%|█████████▎| 803/859 [01:40<00:07,  7.98it/s, Video category: food]\n",
      "Progress: 162/1732:  92%|█████████▏| 1012/1100 [02:16<00:11,  7.43it/s, Video category: food]\n",
      "Progress: 163/1732:  96%|█████████▌| 683/711 [01:29<00:03,  7.66it/s, Video category: travel]\n",
      "Progress: 164/1732:  92%|█████████▏| 287/312 [00:35<00:03,  8.15it/s, Video category: art_music]\n",
      "  0%|          | 0/46576 [00:00<?, ?it/s]\n",
      "Progress: 165/1732:  93%|█████████▎| 467/500 [01:01<00:04,  7.54it/s, Video category: food]\n",
      "  0%|          | 0/7437 [00:00<?, ?it/s]\n",
      "Progress: 166/1732:  93%|█████████▎| 1459/1562 [03:10<00:13,  7.68it/s, Video category: travel]\n",
      "Progress: 167/1732:  94%|█████████▍| 301/321 [00:41<00:02,  7.25it/s, Video category: food]\n",
      "Progress: 168/1732:  96%|█████████▌| 658/684 [01:24<00:03,  7.80it/s, Video category: travel]\n",
      "  0%|          | 0/6482 [00:00<?, ?it/s]\n",
      "Progress: 169/1732:  93%|█████████▎| 698/747 [01:34<00:06,  7.42it/s, Video category: food]\n",
      "  0%|          | 0/6785 [00:00<?, ?it/s]\n",
      "Progress: 170/1732:  93%|█████████▎| 918/983 [02:05<00:08,  7.29it/s, Video category: travel]\n",
      "Progress: 171/1732:  92%|█████████▏| 692/752 [01:32<00:08,  7.49it/s, Video category: history]\n",
      "Progress: 172/1732:  93%|█████████▎| 1061/1140 [02:16<00:10,  7.79it/s, Video category: food]\n",
      "Progress: 173/1732:  93%|█████████▎| 1120/1198 [02:19<00:09,  8.04it/s, Video category: travel]\n",
      "Progress: 174/1732:  92%|█████████▏| 1220/1329 [02:53<00:15,  7.05it/s, Video category: travel]\n",
      "  0%|          | 0/5594 [00:00<?, ?it/s]\n",
      "Progress: 175/1732:  93%|█████████▎| 868/933 [02:02<00:09,  7.11it/s, Video category: food]\n",
      "Progress: 176/1732:  96%|█████████▌| 586/611 [01:20<00:03,  7.27it/s, Video category: history]\n",
      "Progress: 177/1732:  92%|█████████▏| 630/686 [01:28<00:07,  7.14it/s, Video category: food]\n",
      "Progress: 178/1732:  92%|█████████▏| 429/464 [01:02<00:05,  6.92it/s, Video category: food]\n",
      "Progress: 179/1732: 127it [00:18,  6.92it/s, Video category: history]                         \n",
      "Progress: 180/1732:  92%|█████████▏| 814/886 [01:52<00:09,  7.26it/s, Video category: travel]\n",
      "Progress: 181/1732: 546it [01:14,  7.31it/s, Video category: travel]                         \n",
      "  0%|          | 0/100494 [00:00<?, ?it/s]\n",
      "Progress: 182/1732:  96%|█████████▌| 395/411 [00:55<00:02,  7.18it/s, Video category: food]\n",
      "Progress: 183/1732:  96%|█████████▌| 873/908 [02:04<00:04,  7.02it/s, Video category: travel]\n",
      "  0%|          | 0/4134 [00:00<?, ?it/s]\n",
      "Progress: 184/1732:  93%|█████████▎| 1036/1109 [02:19<00:09,  7.43it/s, Video category: food]\n",
      "Progress: 185/1732:  94%|█████████▎| 607/649 [01:24<00:05,  7.20it/s, Video category: food]\n",
      "Progress: 186/1732:  93%|█████████▎| 212/229 [00:28<00:02,  7.43it/s, Video category: history]\n",
      "  0%|          | 0/2689 [00:00<?, ?it/s]\n",
      "Progress: 187/1732: 446it [01:04,  6.90it/s, Video category: travel]                         \n",
      "Progress: 188/1732:  94%|█████████▎| 359/383 [00:50<00:03,  7.13it/s, Video category: food]\n",
      "Progress: 189/1732:  92%|█████████▏| 1022/1110 [02:29<00:12,  6.83it/s, Video category: travel]\n",
      "Progress: 190/1732:  92%|█████████▏| 206/223 [00:28<00:02,  7.21it/s, Video category: travel]\n",
      "Progress: 191/1732:  96%|█████████▌| 363/378 [00:50<00:02,  7.26it/s, Video category: travel]\n",
      "Progress: 192/1732:  93%|█████████▎| 964/1033 [02:17<00:09,  7.03it/s, Video category: history]\n",
      "Progress: 193/1732: 197it [00:27,  7.28it/s, Video category: travel]                         \n",
      "Progress: 194/1732: 215it [00:27,  7.70it/s, Video category: history]                         \n",
      "  0%|          | 0/5087 [00:00<?, ?it/s]\n",
      "Progress: 195/1732:  92%|█████████▏| 412/447 [00:57<00:04,  7.19it/s, Video category: food]\n",
      "Progress: 196/1732:  93%|█████████▎| 951/1024 [02:15<00:10,  7.04it/s, Video category: food]\n",
      "Progress: 197/1732:  92%|█████████▏| 796/865 [01:48<00:09,  7.34it/s, Video category: history]\n",
      "Progress: 198/1732:  96%|█████████▋| 162/168 [00:23<00:00,  6.80it/s, Video category: food]\n",
      "Progress: 199/1732:  92%|█████████▏| 919/997 [02:11<00:11,  6.96it/s, Video category: travel]\n",
      "Progress: 200/1732:  93%|█████████▎| 1182/1271 [02:48<00:12,  7.00it/s, Video category: travel]\n",
      "Progress: 201/1732:  94%|█████████▎| 580/619 [01:22<00:05,  7.05it/s, Video category: food]\n",
      "Progress: 202/1732:  96%|█████████▌| 970/1010 [02:16<00:05,  7.11it/s, Video category: travel]\n",
      "Progress: 203/1732:  92%|█████████▏| 585/636 [01:20<00:07,  7.23it/s, Video category: travel]\n",
      "Progress: 204/1732:  94%|█████████▎| 482/515 [01:05<00:04,  7.34it/s, Video category: history]\n",
      "  0%|          | 0/5632 [00:00<?, ?it/s]\n",
      "Progress: 205/1732:  93%|█████████▎| 188/203 [00:26<00:02,  7.04it/s, Video category: art_music]\n",
      "Progress: 206/1732:  94%|█████████▎| 780/834 [01:49<00:07,  7.10it/s, Video category: food]\n",
      "Progress: 207/1732:  96%|█████████▌| 522/543 [01:13<00:02,  7.12it/s, Video category: travel]\n",
      "  0%|          | 0/2375 [00:00<?, ?it/s]\n",
      "Progress: 208/1732:  96%|█████████▌| 531/552 [01:16<00:03,  6.96it/s, Video category: history]\n",
      "Progress: 209/1732:  93%|█████████▎| 821/879 [01:54<00:08,  7.15it/s, Video category: travel]\n",
      "Progress: 210/1732:  94%|█████████▎| 504/539 [01:12<00:05,  6.96it/s, Video category: travel]\n",
      "Progress: 211/1732:  90%|█████████ | 403/446 [00:56<00:06,  7.16it/s, Video category: travel]\n",
      "Progress: 212/1732:  96%|█████████▌| 1033/1075 [02:27<00:05,  7.01it/s, Video category: history]\n",
      "Progress: 213/1732:  96%|█████████▌| 366/381 [00:50<00:02,  7.23it/s, Video category: food]\n",
      "Progress: 214/1732:  96%|█████████▌| 712/741 [01:37<00:03,  7.31it/s, Video category: food]\n",
      "Progress: 215/1732:  93%|█████████▎| 1537/1646 [03:39<00:15,  7.01it/s, Video category: art_music]\n",
      "Progress: 216/1732:  96%|█████████▋| 1140/1183 [02:44<00:06,  6.92it/s, Video category: travel]\n",
      "Progress: 217/1732:  96%|█████████▌| 970/1010 [02:14<00:05,  7.20it/s, Video category: history]\n",
      "Progress: 218/1732:  92%|█████████▏| 876/954 [02:05<00:11,  7.00it/s, Video category: history]\n",
      "Progress: 219/1732:  93%|█████████▎| 627/671 [01:27<00:06,  7.17it/s, Video category: food]\n",
      "Progress: 220/1732:  96%|█████████▌| 2574/2686 [06:10<00:16,  6.95it/s, Video category: history]\n",
      "Progress: 221/1732:  92%|█████████▏| 626/681 [01:32<00:08,  6.75it/s, Video category: travel]\n",
      "Progress: 222/1732:  93%|█████████▎| 502/537 [01:09<00:04,  7.19it/s, Video category: food]\n",
      "Progress: 223/1732:  93%|█████████▎| 256/274 [00:36<00:02,  7.05it/s, Video category: travel]\n",
      "Progress: 224/1732:  92%|█████████▏| 456/494 [01:06<00:05,  6.88it/s, Video category: food]\n",
      "Progress: 225/1732:  96%|█████████▋| 387/402 [00:56<00:02,  6.85it/s, Video category: art_music]\n",
      "Progress: 226/1732:  93%|█████████▎| 737/791 [01:44<00:07,  7.03it/s, Video category: travel]\n",
      "Progress: 227/1732:  96%|█████████▌| 662/689 [01:32<00:03,  7.17it/s, Video category: history]\n",
      "Progress: 228/1732: 22it [00:03,  6.47it/s, Video category: travel]                        \n",
      "Progress: 229/1732:  93%|█████████▎| 846/910 [02:04<00:09,  6.80it/s, Video category: travel]\n",
      "Progress: 230/1732:  93%|█████████▎| 1146/1226 [02:46<00:11,  6.89it/s, Video category: travel]\n",
      "Progress: 231/1732:  94%|█████████▎| 987/1055 [02:21<00:09,  6.99it/s, Video category: food]\n",
      "Progress: 232/1732: 907it [02:07,  7.12it/s, Video category: history]                         \n",
      "Progress: 233/1732:  90%|█████████ | 450/498 [01:03<00:06,  7.07it/s, Video category: food]\n",
      "Progress: 234/1732:  96%|█████████▌| 421/439 [01:02<00:02,  6.74it/s, Video category: art_music]\n",
      "Progress: 235/1732:  94%|█████████▎| 411/439 [00:57<00:03,  7.19it/s, Video category: food]\n",
      "  0%|          | 0/4348 [00:00<?, ?it/s]\n",
      "Progress: 236/1732:  93%|█████████▎| 793/849 [01:54<00:08,  6.93it/s, Video category: food]\n",
      "Progress: 237/1732: 1393it [03:21,  6.92it/s, Video category: food]                          \n",
      "Progress: 238/1732:  94%|█████████▎| 696/744 [01:39<00:06,  7.01it/s, Video category: food]\n",
      "Progress: 239/1732:  93%|█████████▎| 480/514 [01:00<00:04,  7.99it/s, Video category: travel]\n",
      "Progress: 240/1732:  96%|█████████▌| 900/937 [01:28<00:03, 10.22it/s, Video category: food]\n",
      "Progress: 241/1732:  96%|█████████▌| 25/26 [00:02<00:00, 11.19it/s, Video category: travel]\n",
      "  0%|          | 0/11533 [00:00<?, ?it/s]\n",
      "Progress: 242/1732:  94%|█████████▎| 1425/1524 [02:18<00:09, 10.30it/s, Video category: history]\n",
      "Progress: 243/1732:  96%|█████████▌| 2007/2090 [02:25<00:05, 13.84it/s, Video category: food]\n",
      "Progress: 244/1732: 100%|██████████| 629/629 [00:45<00:00, 13.96it/s, Video category: travel]\n",
      "Progress: 245/1732:  92%|█████████▏| 463/504 [00:31<00:02, 14.82it/s, Video category: travel]\n",
      "Progress: 246/1732:  94%|█████████▎| 351/375 [00:23<00:01, 15.14it/s, Video category: travel]\n",
      "Progress: 247/1732:  93%|█████████▎| 443/474 [00:28<00:02, 15.31it/s, Video category: food]\n",
      "Progress: 248/1732:  93%|█████████▎| 368/395 [00:24<00:01, 15.06it/s, Video category: travel]\n",
      "Progress: 249/1732:  92%|█████████▏| 442/481 [00:28<00:02, 15.28it/s, Video category: food]\n",
      "Progress: 250/1732:  94%|█████████▎| 505/540 [00:33<00:02, 14.99it/s, Video category: travel]\n",
      "  0%|          | 0/2393 [00:00<?, ?it/s]\n",
      "Progress: 251/1732:  92%|█████████▏| 1322/1440 [01:28<00:07, 14.96it/s, Video category: food]\n",
      "Progress: 252/1732: 100%|██████████| 15/15 [00:00<00:00, 16.69it/s, Video category: food]\n",
      "Progress: 253/1732:  92%|█████████▏| 987/1075 [01:02<00:05, 15.74it/s, Video category: travel]\n",
      "Progress: 254/1732:  92%|█████████▏| 1282/1395 [01:20<00:07, 15.85it/s, Video category: history]\n",
      "Progress: 255/1732:  94%|█████████▎| 373/398 [00:23<00:01, 15.93it/s, Video category: travel]\n",
      "Progress: 256/1732:  93%|█████████▎| 627/673 [00:39<00:02, 15.81it/s, Video category: food]\n",
      "Progress: 257/1732:  96%|█████████▌| 406/422 [00:25<00:01, 15.68it/s, Video category: art_music]\n",
      "Progress: 258/1732:  93%|█████████▎| 1275/1364 [01:20<00:05, 15.85it/s, Video category: food]\n",
      "Progress: 259/1732:  94%|█████████▎| 204/218 [00:13<00:00, 14.97it/s, Video category: art_music]\n",
      "Progress: 260/1732:  92%|█████████▏| 885/963 [00:58<00:05, 15.23it/s, Video category: food]\n",
      "Progress: 261/1732:  94%|█████████▎| 808/863 [00:50<00:03, 15.98it/s, Video category: food]\n",
      "Progress: 262/1732:  93%|█████████▎| 767/824 [00:47<00:03, 16.11it/s, Video category: food]\n",
      "  0%|          | 0/2031 [00:00<?, ?it/s]\n",
      "Progress: 263/1732: 354907it [6:29:14, 14.85it/s, Video category: food]                      "
     ]
    },
    {
     "ename": "KeyboardInterrupt",
     "evalue": "",
     "output_type": "error",
     "traceback": [
      "\u001B[1;31m---------------------------------------------------------------------------\u001B[0m",
      "\u001B[1;31mKeyboardInterrupt\u001B[0m                         Traceback (most recent call last)",
      "Input \u001B[1;32mIn [1]\u001B[0m, in \u001B[0;36m<cell line: 3>\u001B[1;34m()\u001B[0m\n\u001B[0;32m      1\u001B[0m \u001B[38;5;28;01mfrom\u001B[39;00m \u001B[38;5;21;01mutils\u001B[39;00m \u001B[38;5;28;01mimport\u001B[39;00m convert_videos_to_embeddings\n\u001B[1;32m----> 3\u001B[0m \u001B[43mconvert_videos_to_embeddings\u001B[49m\u001B[43m(\u001B[49m\u001B[43mvideos_dir\u001B[49m\u001B[38;5;241;43m=\u001B[39;49m\u001B[38;5;124;43m'\u001B[39;49m\u001B[38;5;124;43mdata/videos/\u001B[39;49m\u001B[38;5;124;43m'\u001B[39;49m\u001B[43m,\u001B[49m\u001B[43m \u001B[49m\u001B[43mdir_to_load\u001B[49m\u001B[38;5;241;43m=\u001B[39;49m\u001B[38;5;124;43m'\u001B[39;49m\u001B[38;5;124;43mdata/\u001B[39;49m\u001B[38;5;124;43m'\u001B[39;49m\u001B[43m,\u001B[49m\u001B[43m \u001B[49m\u001B[43mfile_name\u001B[49m\u001B[38;5;241;43m=\u001B[39;49m\u001B[38;5;124;43m'\u001B[39;49m\u001B[38;5;124;43membeddings_4\u001B[39;49m\u001B[38;5;124;43m'\u001B[39;49m\u001B[43m,\u001B[49m\u001B[43m \u001B[49m\u001B[43mcount\u001B[49m\u001B[38;5;241;43m=\u001B[39;49m\u001B[38;5;241;43m1000\u001B[39;49m\u001B[43m)\u001B[49m\n",
      "File \u001B[1;32mC:\\MySpace\\Projects\\PTDL\\lab2\\utils.py:94\u001B[0m, in \u001B[0;36mconvert_videos_to_embeddings\u001B[1;34m(videos_dir, dir_to_load, file_name, count, train_part)\u001B[0m\n\u001B[0;32m     91\u001B[0m label \u001B[38;5;241m=\u001B[39m table\u001B[38;5;241m.\u001B[39mloc[i, \u001B[38;5;124m'\u001B[39m\u001B[38;5;124mcategory\u001B[39m\u001B[38;5;124m'\u001B[39m]\n\u001B[0;32m     93\u001B[0m \u001B[38;5;28;01mtry\u001B[39;00m:\n\u001B[1;32m---> 94\u001B[0m     answer \u001B[38;5;241m=\u001B[39m \u001B[43mread_video\u001B[49m\u001B[43m(\u001B[49m\u001B[43mmodel\u001B[49m\u001B[43m,\u001B[49m\u001B[43m \u001B[49m\u001B[43mtable\u001B[49m\u001B[43m,\u001B[49m\u001B[43m \u001B[49m\u001B[43mlabels\u001B[49m\u001B[43m,\u001B[49m\u001B[43m \u001B[49m\u001B[43mvideo_full_path\u001B[49m\u001B[43m,\u001B[49m\u001B[43m \u001B[49m\u001B[43mcurrent_video\u001B[49m\u001B[43m,\u001B[49m\u001B[43m \u001B[49m\u001B[43mfull_count\u001B[49m\u001B[43m,\u001B[49m\u001B[43m \u001B[49m\u001B[43mlabel\u001B[49m\u001B[43m)\u001B[49m\n\u001B[0;32m     95\u001B[0m     \u001B[38;5;28;01mif\u001B[39;00m answer \u001B[38;5;241m==\u001B[39m Status\u001B[38;5;241m.\u001B[39mRandomVideoIsNopOpened:\n\u001B[0;32m     96\u001B[0m         \u001B[38;5;28;01mcontinue\u001B[39;00m\n",
      "File \u001B[1;32mC:\\MySpace\\Projects\\PTDL\\lab2\\utils.py:178\u001B[0m, in \u001B[0;36mread_video\u001B[1;34m(model, table, labels, path_to_video, cur_video, full_count, label)\u001B[0m\n\u001B[0;32m    175\u001B[0m     current_sec \u001B[38;5;241m+\u001B[39m\u001B[38;5;241m=\u001B[39m \u001B[38;5;241m1\u001B[39m\n\u001B[0;32m    176\u001B[0m     \u001B[38;5;28;01mbreak\u001B[39;00m\n\u001B[1;32m--> 178\u001B[0m embeddings \u001B[38;5;241m=\u001B[39m \u001B[43mmodel\u001B[49m\u001B[43m(\u001B[49m\u001B[43mtorch\u001B[49m\u001B[38;5;241;43m.\u001B[39;49m\u001B[43munsqueeze\u001B[49m\u001B[43m(\u001B[49m\u001B[43mframe\u001B[49m\u001B[43m,\u001B[49m\u001B[43m \u001B[49m\u001B[43mdim\u001B[49m\u001B[38;5;241;43m=\u001B[39;49m\u001B[38;5;241;43m0\u001B[39;49m\u001B[43m)\u001B[49m\u001B[38;5;241;43m.\u001B[39;49m\u001B[43mto\u001B[49m\u001B[43m(\u001B[49m\u001B[43mdevice\u001B[49m\u001B[43m)\u001B[49m\u001B[43m)\u001B[49m[\u001B[38;5;241m0\u001B[39m]\n\u001B[0;32m    179\u001B[0m emb_space\u001B[38;5;241m.\u001B[39mappend(embeddings\u001B[38;5;241m.\u001B[39mdetach()\u001B[38;5;241m.\u001B[39mcpu()\u001B[38;5;241m.\u001B[39mnumpy())\n\u001B[0;32m    181\u001B[0m subbar\u001B[38;5;241m.\u001B[39mupdate(\u001B[38;5;241m1\u001B[39m)\n",
      "File \u001B[1;32mC:\\MySpace\\Programs\\anaconda3\\envs\\cvenv\\lib\\site-packages\\torch\\nn\\modules\\module.py:1130\u001B[0m, in \u001B[0;36mModule._call_impl\u001B[1;34m(self, *input, **kwargs)\u001B[0m\n\u001B[0;32m   1126\u001B[0m \u001B[38;5;66;03m# If we don't have any hooks, we want to skip the rest of the logic in\u001B[39;00m\n\u001B[0;32m   1127\u001B[0m \u001B[38;5;66;03m# this function, and just call forward.\u001B[39;00m\n\u001B[0;32m   1128\u001B[0m \u001B[38;5;28;01mif\u001B[39;00m \u001B[38;5;129;01mnot\u001B[39;00m (\u001B[38;5;28mself\u001B[39m\u001B[38;5;241m.\u001B[39m_backward_hooks \u001B[38;5;129;01mor\u001B[39;00m \u001B[38;5;28mself\u001B[39m\u001B[38;5;241m.\u001B[39m_forward_hooks \u001B[38;5;129;01mor\u001B[39;00m \u001B[38;5;28mself\u001B[39m\u001B[38;5;241m.\u001B[39m_forward_pre_hooks \u001B[38;5;129;01mor\u001B[39;00m _global_backward_hooks\n\u001B[0;32m   1129\u001B[0m         \u001B[38;5;129;01mor\u001B[39;00m _global_forward_hooks \u001B[38;5;129;01mor\u001B[39;00m _global_forward_pre_hooks):\n\u001B[1;32m-> 1130\u001B[0m     \u001B[38;5;28;01mreturn\u001B[39;00m \u001B[43mforward_call\u001B[49m\u001B[43m(\u001B[49m\u001B[38;5;241;43m*\u001B[39;49m\u001B[38;5;28;43minput\u001B[39;49m\u001B[43m,\u001B[49m\u001B[43m \u001B[49m\u001B[38;5;241;43m*\u001B[39;49m\u001B[38;5;241;43m*\u001B[39;49m\u001B[43mkwargs\u001B[49m\u001B[43m)\u001B[49m\n\u001B[0;32m   1131\u001B[0m \u001B[38;5;66;03m# Do not call functions when jit is used\u001B[39;00m\n\u001B[0;32m   1132\u001B[0m full_backward_hooks, non_full_backward_hooks \u001B[38;5;241m=\u001B[39m [], []\n",
      "File \u001B[1;32mC:\\MySpace\\Programs\\anaconda3\\envs\\cvenv\\lib\\site-packages\\torchvision\\models\\swin_transformer.py:404\u001B[0m, in \u001B[0;36mSwinTransformer.forward\u001B[1;34m(self, x)\u001B[0m\n\u001B[0;32m    403\u001B[0m \u001B[38;5;28;01mdef\u001B[39;00m \u001B[38;5;21mforward\u001B[39m(\u001B[38;5;28mself\u001B[39m, x):\n\u001B[1;32m--> 404\u001B[0m     x \u001B[38;5;241m=\u001B[39m \u001B[38;5;28;43mself\u001B[39;49m\u001B[38;5;241;43m.\u001B[39;49m\u001B[43mfeatures\u001B[49m\u001B[43m(\u001B[49m\u001B[43mx\u001B[49m\u001B[43m)\u001B[49m\n\u001B[0;32m    405\u001B[0m     x \u001B[38;5;241m=\u001B[39m \u001B[38;5;28mself\u001B[39m\u001B[38;5;241m.\u001B[39mnorm(x)\n\u001B[0;32m    406\u001B[0m     x \u001B[38;5;241m=\u001B[39m x\u001B[38;5;241m.\u001B[39mpermute(\u001B[38;5;241m0\u001B[39m, \u001B[38;5;241m3\u001B[39m, \u001B[38;5;241m1\u001B[39m, \u001B[38;5;241m2\u001B[39m)\n",
      "File \u001B[1;32mC:\\MySpace\\Programs\\anaconda3\\envs\\cvenv\\lib\\site-packages\\torch\\nn\\modules\\module.py:1130\u001B[0m, in \u001B[0;36mModule._call_impl\u001B[1;34m(self, *input, **kwargs)\u001B[0m\n\u001B[0;32m   1126\u001B[0m \u001B[38;5;66;03m# If we don't have any hooks, we want to skip the rest of the logic in\u001B[39;00m\n\u001B[0;32m   1127\u001B[0m \u001B[38;5;66;03m# this function, and just call forward.\u001B[39;00m\n\u001B[0;32m   1128\u001B[0m \u001B[38;5;28;01mif\u001B[39;00m \u001B[38;5;129;01mnot\u001B[39;00m (\u001B[38;5;28mself\u001B[39m\u001B[38;5;241m.\u001B[39m_backward_hooks \u001B[38;5;129;01mor\u001B[39;00m \u001B[38;5;28mself\u001B[39m\u001B[38;5;241m.\u001B[39m_forward_hooks \u001B[38;5;129;01mor\u001B[39;00m \u001B[38;5;28mself\u001B[39m\u001B[38;5;241m.\u001B[39m_forward_pre_hooks \u001B[38;5;129;01mor\u001B[39;00m _global_backward_hooks\n\u001B[0;32m   1129\u001B[0m         \u001B[38;5;129;01mor\u001B[39;00m _global_forward_hooks \u001B[38;5;129;01mor\u001B[39;00m _global_forward_pre_hooks):\n\u001B[1;32m-> 1130\u001B[0m     \u001B[38;5;28;01mreturn\u001B[39;00m \u001B[43mforward_call\u001B[49m\u001B[43m(\u001B[49m\u001B[38;5;241;43m*\u001B[39;49m\u001B[38;5;28;43minput\u001B[39;49m\u001B[43m,\u001B[49m\u001B[43m \u001B[49m\u001B[38;5;241;43m*\u001B[39;49m\u001B[38;5;241;43m*\u001B[39;49m\u001B[43mkwargs\u001B[49m\u001B[43m)\u001B[49m\n\u001B[0;32m   1131\u001B[0m \u001B[38;5;66;03m# Do not call functions when jit is used\u001B[39;00m\n\u001B[0;32m   1132\u001B[0m full_backward_hooks, non_full_backward_hooks \u001B[38;5;241m=\u001B[39m [], []\n",
      "File \u001B[1;32mC:\\MySpace\\Programs\\anaconda3\\envs\\cvenv\\lib\\site-packages\\torch\\nn\\modules\\container.py:139\u001B[0m, in \u001B[0;36mSequential.forward\u001B[1;34m(self, input)\u001B[0m\n\u001B[0;32m    137\u001B[0m \u001B[38;5;28;01mdef\u001B[39;00m \u001B[38;5;21mforward\u001B[39m(\u001B[38;5;28mself\u001B[39m, \u001B[38;5;28minput\u001B[39m):\n\u001B[0;32m    138\u001B[0m     \u001B[38;5;28;01mfor\u001B[39;00m module \u001B[38;5;129;01min\u001B[39;00m \u001B[38;5;28mself\u001B[39m:\n\u001B[1;32m--> 139\u001B[0m         \u001B[38;5;28minput\u001B[39m \u001B[38;5;241m=\u001B[39m \u001B[43mmodule\u001B[49m\u001B[43m(\u001B[49m\u001B[38;5;28;43minput\u001B[39;49m\u001B[43m)\u001B[49m\n\u001B[0;32m    140\u001B[0m     \u001B[38;5;28;01mreturn\u001B[39;00m \u001B[38;5;28minput\u001B[39m\n",
      "File \u001B[1;32mC:\\MySpace\\Programs\\anaconda3\\envs\\cvenv\\lib\\site-packages\\torch\\nn\\modules\\module.py:1130\u001B[0m, in \u001B[0;36mModule._call_impl\u001B[1;34m(self, *input, **kwargs)\u001B[0m\n\u001B[0;32m   1126\u001B[0m \u001B[38;5;66;03m# If we don't have any hooks, we want to skip the rest of the logic in\u001B[39;00m\n\u001B[0;32m   1127\u001B[0m \u001B[38;5;66;03m# this function, and just call forward.\u001B[39;00m\n\u001B[0;32m   1128\u001B[0m \u001B[38;5;28;01mif\u001B[39;00m \u001B[38;5;129;01mnot\u001B[39;00m (\u001B[38;5;28mself\u001B[39m\u001B[38;5;241m.\u001B[39m_backward_hooks \u001B[38;5;129;01mor\u001B[39;00m \u001B[38;5;28mself\u001B[39m\u001B[38;5;241m.\u001B[39m_forward_hooks \u001B[38;5;129;01mor\u001B[39;00m \u001B[38;5;28mself\u001B[39m\u001B[38;5;241m.\u001B[39m_forward_pre_hooks \u001B[38;5;129;01mor\u001B[39;00m _global_backward_hooks\n\u001B[0;32m   1129\u001B[0m         \u001B[38;5;129;01mor\u001B[39;00m _global_forward_hooks \u001B[38;5;129;01mor\u001B[39;00m _global_forward_pre_hooks):\n\u001B[1;32m-> 1130\u001B[0m     \u001B[38;5;28;01mreturn\u001B[39;00m \u001B[43mforward_call\u001B[49m\u001B[43m(\u001B[49m\u001B[38;5;241;43m*\u001B[39;49m\u001B[38;5;28;43minput\u001B[39;49m\u001B[43m,\u001B[49m\u001B[43m \u001B[49m\u001B[38;5;241;43m*\u001B[39;49m\u001B[38;5;241;43m*\u001B[39;49m\u001B[43mkwargs\u001B[49m\u001B[43m)\u001B[49m\n\u001B[0;32m   1131\u001B[0m \u001B[38;5;66;03m# Do not call functions when jit is used\u001B[39;00m\n\u001B[0;32m   1132\u001B[0m full_backward_hooks, non_full_backward_hooks \u001B[38;5;241m=\u001B[39m [], []\n",
      "File \u001B[1;32mC:\\MySpace\\Programs\\anaconda3\\envs\\cvenv\\lib\\site-packages\\torch\\nn\\modules\\container.py:139\u001B[0m, in \u001B[0;36mSequential.forward\u001B[1;34m(self, input)\u001B[0m\n\u001B[0;32m    137\u001B[0m \u001B[38;5;28;01mdef\u001B[39;00m \u001B[38;5;21mforward\u001B[39m(\u001B[38;5;28mself\u001B[39m, \u001B[38;5;28minput\u001B[39m):\n\u001B[0;32m    138\u001B[0m     \u001B[38;5;28;01mfor\u001B[39;00m module \u001B[38;5;129;01min\u001B[39;00m \u001B[38;5;28mself\u001B[39m:\n\u001B[1;32m--> 139\u001B[0m         \u001B[38;5;28minput\u001B[39m \u001B[38;5;241m=\u001B[39m \u001B[43mmodule\u001B[49m\u001B[43m(\u001B[49m\u001B[38;5;28;43minput\u001B[39;49m\u001B[43m)\u001B[49m\n\u001B[0;32m    140\u001B[0m     \u001B[38;5;28;01mreturn\u001B[39;00m \u001B[38;5;28minput\u001B[39m\n",
      "File \u001B[1;32mC:\\MySpace\\Programs\\anaconda3\\envs\\cvenv\\lib\\site-packages\\torch\\nn\\modules\\module.py:1130\u001B[0m, in \u001B[0;36mModule._call_impl\u001B[1;34m(self, *input, **kwargs)\u001B[0m\n\u001B[0;32m   1126\u001B[0m \u001B[38;5;66;03m# If we don't have any hooks, we want to skip the rest of the logic in\u001B[39;00m\n\u001B[0;32m   1127\u001B[0m \u001B[38;5;66;03m# this function, and just call forward.\u001B[39;00m\n\u001B[0;32m   1128\u001B[0m \u001B[38;5;28;01mif\u001B[39;00m \u001B[38;5;129;01mnot\u001B[39;00m (\u001B[38;5;28mself\u001B[39m\u001B[38;5;241m.\u001B[39m_backward_hooks \u001B[38;5;129;01mor\u001B[39;00m \u001B[38;5;28mself\u001B[39m\u001B[38;5;241m.\u001B[39m_forward_hooks \u001B[38;5;129;01mor\u001B[39;00m \u001B[38;5;28mself\u001B[39m\u001B[38;5;241m.\u001B[39m_forward_pre_hooks \u001B[38;5;129;01mor\u001B[39;00m _global_backward_hooks\n\u001B[0;32m   1129\u001B[0m         \u001B[38;5;129;01mor\u001B[39;00m _global_forward_hooks \u001B[38;5;129;01mor\u001B[39;00m _global_forward_pre_hooks):\n\u001B[1;32m-> 1130\u001B[0m     \u001B[38;5;28;01mreturn\u001B[39;00m \u001B[43mforward_call\u001B[49m\u001B[43m(\u001B[49m\u001B[38;5;241;43m*\u001B[39;49m\u001B[38;5;28;43minput\u001B[39;49m\u001B[43m,\u001B[49m\u001B[43m \u001B[49m\u001B[38;5;241;43m*\u001B[39;49m\u001B[38;5;241;43m*\u001B[39;49m\u001B[43mkwargs\u001B[49m\u001B[43m)\u001B[49m\n\u001B[0;32m   1131\u001B[0m \u001B[38;5;66;03m# Do not call functions when jit is used\u001B[39;00m\n\u001B[0;32m   1132\u001B[0m full_backward_hooks, non_full_backward_hooks \u001B[38;5;241m=\u001B[39m [], []\n",
      "File \u001B[1;32mC:\\MySpace\\Programs\\anaconda3\\envs\\cvenv\\lib\\site-packages\\torchvision\\models\\swin_transformer.py:302\u001B[0m, in \u001B[0;36mSwinTransformerBlock.forward\u001B[1;34m(self, x)\u001B[0m\n\u001B[0;32m    301\u001B[0m \u001B[38;5;28;01mdef\u001B[39;00m \u001B[38;5;21mforward\u001B[39m(\u001B[38;5;28mself\u001B[39m, x: Tensor):\n\u001B[1;32m--> 302\u001B[0m     x \u001B[38;5;241m=\u001B[39m x \u001B[38;5;241m+\u001B[39m \u001B[38;5;28mself\u001B[39m\u001B[38;5;241m.\u001B[39mstochastic_depth(\u001B[38;5;28;43mself\u001B[39;49m\u001B[38;5;241;43m.\u001B[39;49m\u001B[43mattn\u001B[49m\u001B[43m(\u001B[49m\u001B[38;5;28;43mself\u001B[39;49m\u001B[38;5;241;43m.\u001B[39;49m\u001B[43mnorm1\u001B[49m\u001B[43m(\u001B[49m\u001B[43mx\u001B[49m\u001B[43m)\u001B[49m\u001B[43m)\u001B[49m)\n\u001B[0;32m    303\u001B[0m     x \u001B[38;5;241m=\u001B[39m x \u001B[38;5;241m+\u001B[39m \u001B[38;5;28mself\u001B[39m\u001B[38;5;241m.\u001B[39mstochastic_depth(\u001B[38;5;28mself\u001B[39m\u001B[38;5;241m.\u001B[39mmlp(\u001B[38;5;28mself\u001B[39m\u001B[38;5;241m.\u001B[39mnorm2(x)))\n\u001B[0;32m    304\u001B[0m     \u001B[38;5;28;01mreturn\u001B[39;00m x\n",
      "File \u001B[1;32mC:\\MySpace\\Programs\\anaconda3\\envs\\cvenv\\lib\\site-packages\\torch\\nn\\modules\\module.py:1130\u001B[0m, in \u001B[0;36mModule._call_impl\u001B[1;34m(self, *input, **kwargs)\u001B[0m\n\u001B[0;32m   1126\u001B[0m \u001B[38;5;66;03m# If we don't have any hooks, we want to skip the rest of the logic in\u001B[39;00m\n\u001B[0;32m   1127\u001B[0m \u001B[38;5;66;03m# this function, and just call forward.\u001B[39;00m\n\u001B[0;32m   1128\u001B[0m \u001B[38;5;28;01mif\u001B[39;00m \u001B[38;5;129;01mnot\u001B[39;00m (\u001B[38;5;28mself\u001B[39m\u001B[38;5;241m.\u001B[39m_backward_hooks \u001B[38;5;129;01mor\u001B[39;00m \u001B[38;5;28mself\u001B[39m\u001B[38;5;241m.\u001B[39m_forward_hooks \u001B[38;5;129;01mor\u001B[39;00m \u001B[38;5;28mself\u001B[39m\u001B[38;5;241m.\u001B[39m_forward_pre_hooks \u001B[38;5;129;01mor\u001B[39;00m _global_backward_hooks\n\u001B[0;32m   1129\u001B[0m         \u001B[38;5;129;01mor\u001B[39;00m _global_forward_hooks \u001B[38;5;129;01mor\u001B[39;00m _global_forward_pre_hooks):\n\u001B[1;32m-> 1130\u001B[0m     \u001B[38;5;28;01mreturn\u001B[39;00m \u001B[43mforward_call\u001B[49m\u001B[43m(\u001B[49m\u001B[38;5;241;43m*\u001B[39;49m\u001B[38;5;28;43minput\u001B[39;49m\u001B[43m,\u001B[49m\u001B[43m \u001B[49m\u001B[38;5;241;43m*\u001B[39;49m\u001B[38;5;241;43m*\u001B[39;49m\u001B[43mkwargs\u001B[49m\u001B[43m)\u001B[49m\n\u001B[0;32m   1131\u001B[0m \u001B[38;5;66;03m# Do not call functions when jit is used\u001B[39;00m\n\u001B[0;32m   1132\u001B[0m full_backward_hooks, non_full_backward_hooks \u001B[38;5;241m=\u001B[39m [], []\n",
      "File \u001B[1;32mC:\\MySpace\\Programs\\anaconda3\\envs\\cvenv\\lib\\site-packages\\torchvision\\models\\swin_transformer.py:235\u001B[0m, in \u001B[0;36mShiftedWindowAttention.forward\u001B[1;34m(self, x)\u001B[0m\n\u001B[0;32m    232\u001B[0m relative_position_bias \u001B[38;5;241m=\u001B[39m relative_position_bias\u001B[38;5;241m.\u001B[39mview(N, N, \u001B[38;5;241m-\u001B[39m\u001B[38;5;241m1\u001B[39m)\n\u001B[0;32m    233\u001B[0m relative_position_bias \u001B[38;5;241m=\u001B[39m relative_position_bias\u001B[38;5;241m.\u001B[39mpermute(\u001B[38;5;241m2\u001B[39m, \u001B[38;5;241m0\u001B[39m, \u001B[38;5;241m1\u001B[39m)\u001B[38;5;241m.\u001B[39mcontiguous()\u001B[38;5;241m.\u001B[39munsqueeze(\u001B[38;5;241m0\u001B[39m)\n\u001B[1;32m--> 235\u001B[0m \u001B[38;5;28;01mreturn\u001B[39;00m \u001B[43mshifted_window_attention\u001B[49m\u001B[43m(\u001B[49m\n\u001B[0;32m    236\u001B[0m \u001B[43m    \u001B[49m\u001B[43mx\u001B[49m\u001B[43m,\u001B[49m\n\u001B[0;32m    237\u001B[0m \u001B[43m    \u001B[49m\u001B[38;5;28;43mself\u001B[39;49m\u001B[38;5;241;43m.\u001B[39;49m\u001B[43mqkv\u001B[49m\u001B[38;5;241;43m.\u001B[39;49m\u001B[43mweight\u001B[49m\u001B[43m,\u001B[49m\n\u001B[0;32m    238\u001B[0m \u001B[43m    \u001B[49m\u001B[38;5;28;43mself\u001B[39;49m\u001B[38;5;241;43m.\u001B[39;49m\u001B[43mproj\u001B[49m\u001B[38;5;241;43m.\u001B[39;49m\u001B[43mweight\u001B[49m\u001B[43m,\u001B[49m\n\u001B[0;32m    239\u001B[0m \u001B[43m    \u001B[49m\u001B[43mrelative_position_bias\u001B[49m\u001B[43m,\u001B[49m\n\u001B[0;32m    240\u001B[0m \u001B[43m    \u001B[49m\u001B[38;5;28;43mself\u001B[39;49m\u001B[38;5;241;43m.\u001B[39;49m\u001B[43mwindow_size\u001B[49m\u001B[43m,\u001B[49m\n\u001B[0;32m    241\u001B[0m \u001B[43m    \u001B[49m\u001B[38;5;28;43mself\u001B[39;49m\u001B[38;5;241;43m.\u001B[39;49m\u001B[43mnum_heads\u001B[49m\u001B[43m,\u001B[49m\n\u001B[0;32m    242\u001B[0m \u001B[43m    \u001B[49m\u001B[43mshift_size\u001B[49m\u001B[38;5;241;43m=\u001B[39;49m\u001B[38;5;28;43mself\u001B[39;49m\u001B[38;5;241;43m.\u001B[39;49m\u001B[43mshift_size\u001B[49m\u001B[43m,\u001B[49m\n\u001B[0;32m    243\u001B[0m \u001B[43m    \u001B[49m\u001B[43mattention_dropout\u001B[49m\u001B[38;5;241;43m=\u001B[39;49m\u001B[38;5;28;43mself\u001B[39;49m\u001B[38;5;241;43m.\u001B[39;49m\u001B[43mattention_dropout\u001B[49m\u001B[43m,\u001B[49m\n\u001B[0;32m    244\u001B[0m \u001B[43m    \u001B[49m\u001B[43mdropout\u001B[49m\u001B[38;5;241;43m=\u001B[39;49m\u001B[38;5;28;43mself\u001B[39;49m\u001B[38;5;241;43m.\u001B[39;49m\u001B[43mdropout\u001B[49m\u001B[43m,\u001B[49m\n\u001B[0;32m    245\u001B[0m \u001B[43m    \u001B[49m\u001B[43mqkv_bias\u001B[49m\u001B[38;5;241;43m=\u001B[39;49m\u001B[38;5;28;43mself\u001B[39;49m\u001B[38;5;241;43m.\u001B[39;49m\u001B[43mqkv\u001B[49m\u001B[38;5;241;43m.\u001B[39;49m\u001B[43mbias\u001B[49m\u001B[43m,\u001B[49m\n\u001B[0;32m    246\u001B[0m \u001B[43m    \u001B[49m\u001B[43mproj_bias\u001B[49m\u001B[38;5;241;43m=\u001B[39;49m\u001B[38;5;28;43mself\u001B[39;49m\u001B[38;5;241;43m.\u001B[39;49m\u001B[43mproj\u001B[49m\u001B[38;5;241;43m.\u001B[39;49m\u001B[43mbias\u001B[49m\u001B[43m,\u001B[49m\n\u001B[0;32m    247\u001B[0m \u001B[43m\u001B[49m\u001B[43m)\u001B[49m\n",
      "File \u001B[1;32mC:\\MySpace\\Programs\\anaconda3\\envs\\cvenv\\lib\\site-packages\\torchvision\\models\\swin_transformer.py:122\u001B[0m, in \u001B[0;36mshifted_window_attention\u001B[1;34m(input, qkv_weight, proj_weight, relative_position_bias, window_size, num_heads, shift_size, attention_dropout, dropout, qkv_bias, proj_bias)\u001B[0m\n\u001B[0;32m    120\u001B[0m num_windows \u001B[38;5;241m=\u001B[39m (pad_H \u001B[38;5;241m/\u001B[39m\u001B[38;5;241m/\u001B[39m window_size[\u001B[38;5;241m0\u001B[39m]) \u001B[38;5;241m*\u001B[39m (pad_W \u001B[38;5;241m/\u001B[39m\u001B[38;5;241m/\u001B[39m window_size[\u001B[38;5;241m1\u001B[39m])\n\u001B[0;32m    121\u001B[0m x \u001B[38;5;241m=\u001B[39m x\u001B[38;5;241m.\u001B[39mview(B, pad_H \u001B[38;5;241m/\u001B[39m\u001B[38;5;241m/\u001B[39m window_size[\u001B[38;5;241m0\u001B[39m], window_size[\u001B[38;5;241m0\u001B[39m], pad_W \u001B[38;5;241m/\u001B[39m\u001B[38;5;241m/\u001B[39m window_size[\u001B[38;5;241m1\u001B[39m], window_size[\u001B[38;5;241m1\u001B[39m], C)\n\u001B[1;32m--> 122\u001B[0m x \u001B[38;5;241m=\u001B[39m \u001B[43mx\u001B[49m\u001B[38;5;241;43m.\u001B[39;49m\u001B[43mpermute\u001B[49m\u001B[43m(\u001B[49m\u001B[38;5;241;43m0\u001B[39;49m\u001B[43m,\u001B[49m\u001B[43m \u001B[49m\u001B[38;5;241;43m1\u001B[39;49m\u001B[43m,\u001B[49m\u001B[43m \u001B[49m\u001B[38;5;241;43m3\u001B[39;49m\u001B[43m,\u001B[49m\u001B[43m \u001B[49m\u001B[38;5;241;43m2\u001B[39;49m\u001B[43m,\u001B[49m\u001B[43m \u001B[49m\u001B[38;5;241;43m4\u001B[39;49m\u001B[43m,\u001B[49m\u001B[43m \u001B[49m\u001B[38;5;241;43m5\u001B[39;49m\u001B[43m)\u001B[49m\u001B[38;5;241;43m.\u001B[39;49m\u001B[43mreshape\u001B[49m\u001B[43m(\u001B[49m\u001B[43mB\u001B[49m\u001B[43m \u001B[49m\u001B[38;5;241;43m*\u001B[39;49m\u001B[43m \u001B[49m\u001B[43mnum_windows\u001B[49m\u001B[43m,\u001B[49m\u001B[43m \u001B[49m\u001B[43mwindow_size\u001B[49m\u001B[43m[\u001B[49m\u001B[38;5;241;43m0\u001B[39;49m\u001B[43m]\u001B[49m\u001B[43m \u001B[49m\u001B[38;5;241;43m*\u001B[39;49m\u001B[43m \u001B[49m\u001B[43mwindow_size\u001B[49m\u001B[43m[\u001B[49m\u001B[38;5;241;43m1\u001B[39;49m\u001B[43m]\u001B[49m\u001B[43m,\u001B[49m\u001B[43m \u001B[49m\u001B[43mC\u001B[49m\u001B[43m)\u001B[49m  \u001B[38;5;66;03m# B*nW, Ws*Ws, C\u001B[39;00m\n\u001B[0;32m    124\u001B[0m \u001B[38;5;66;03m# multi-head attention\u001B[39;00m\n\u001B[0;32m    125\u001B[0m qkv \u001B[38;5;241m=\u001B[39m F\u001B[38;5;241m.\u001B[39mlinear(x, qkv_weight, qkv_bias)\n",
      "\u001B[1;31mKeyboardInterrupt\u001B[0m: "
     ]
    }
   ],
   "source": [
    "from utils import convert_videos_to_embeddings\n",
    "\n",
    "convert_videos_to_embeddings(videos_dir='data/videos/', dir_to_load='data/', file_name='embeddings_4', count=1000)"
   ],
   "metadata": {
    "collapsed": false,
    "pycharm": {
     "name": "#%%\n"
    }
   }
  },
  {
   "cell_type": "code",
   "execution_count": 3,
   "outputs": [],
   "source": [
    "import pandas as pd\n",
    "\n",
    "train_data = pd.read_csv('data/embeddings_4_train.csv')"
   ],
   "metadata": {
    "collapsed": false,
    "pycharm": {
     "name": "#%%\n"
    }
   }
  },
  {
   "cell_type": "code",
   "execution_count": 5,
   "outputs": [
    {
     "data": {
      "text/plain": "        id_video    prob_1    prob_2    prob_3    prob_4         0         1  \\\n92363      185.0  0.000000  0.045257  0.000000  0.954743  0.467466 -0.600699   \n77727      150.0  0.000000  0.499053  0.000000  0.500947  0.262269 -0.456155   \n139350     278.0  0.000000  0.931581  0.000000  0.068419 -1.332942 -0.041151   \n69000      137.0  0.000000  0.000000  0.921717  0.078283  0.425366 -0.465649   \n89026      173.0  0.481692  0.000000  0.000000  0.518308 -0.992553 -0.738206   \n91260      183.0  0.000000  0.954743  0.045257  0.000000 -0.720938 -0.171053   \n78273      151.0  0.000000  0.000000  0.000000  1.000000 -0.957013 -0.882520   \n84369      162.0  0.777659  0.222341  0.000000  0.000000 -1.325772 -1.549626   \n135297     271.0  0.000000  0.936080  0.000000  0.063920 -0.337102  0.062704   \n96699      197.0  0.000000  0.107086  0.892914  0.000000 -0.131636 -0.164220   \n\n               2         3         4  ...      1014      1015      1016  \\\n92363  -0.064524  0.376413 -0.068793  ...  0.412345  0.450144 -0.600133   \n77727  -0.042503  0.651579  0.213203  ...  0.867257  0.355411  0.203387   \n139350  0.203053  0.651909  0.446298  ...  0.448418  0.108742  0.352745   \n69000   0.071921  0.002702 -0.165569  ...  0.538711  0.020568 -0.440364   \n89026  -0.120911 -0.425656 -0.219157  ... -0.521346  0.005987 -0.784533   \n91260   0.813611 -0.528054  0.260393  ...  0.413988  0.234117 -0.894479   \n78273   0.056991  0.454289  0.120172  ... -0.559451 -0.094861 -0.034048   \n84369   0.049839 -0.912276  0.373589  ...  0.105956  1.313978 -1.051894   \n135297  0.116531  0.877239  0.129245  ...  0.110215  0.609147  0.639809   \n96699  -0.013657  0.370069 -0.073336  ...  0.153751  0.084073 -0.380775   \n\n            1017      1018      1019      1020      1021      1022      1023  \n92363  -0.520319 -0.771693  0.466089  0.247871 -0.104830  0.616635 -0.328129  \n77727  -0.090610 -0.248212 -0.264797 -1.343360 -0.010906 -0.380042  1.474014  \n139350 -0.378012 -0.753991  0.104047  0.524538  1.070435  0.437897  0.541338  \n69000  -0.081170  0.211666  0.290532  0.975800 -0.099532  0.017689  1.653601  \n89026  -0.323727  0.599744  0.418889 -0.644446 -0.177309 -0.268331  0.961606  \n91260   0.818399  0.040712  0.631071  0.837460 -1.031578 -0.287701 -0.006030  \n78273  -0.507262  0.951738  0.031587 -0.357187 -0.018120 -0.332243  0.625848  \n84369   0.810593 -0.393664  0.020662  0.087190  0.872844 -0.148570  2.081891  \n135297 -0.102008 -0.252421 -0.269383  1.257458  0.772024 -0.178572  1.781861  \n96699  -0.001490  0.109949 -0.613396  0.321450  0.449221 -0.076181 -0.904002  \n\n[10 rows x 1029 columns]",
      "text/html": "<div>\n<style scoped>\n    .dataframe tbody tr th:only-of-type {\n        vertical-align: middle;\n    }\n\n    .dataframe tbody tr th {\n        vertical-align: top;\n    }\n\n    .dataframe thead th {\n        text-align: right;\n    }\n</style>\n<table border=\"1\" class=\"dataframe\">\n  <thead>\n    <tr style=\"text-align: right;\">\n      <th></th>\n      <th>id_video</th>\n      <th>prob_1</th>\n      <th>prob_2</th>\n      <th>prob_3</th>\n      <th>prob_4</th>\n      <th>0</th>\n      <th>1</th>\n      <th>2</th>\n      <th>3</th>\n      <th>4</th>\n      <th>...</th>\n      <th>1014</th>\n      <th>1015</th>\n      <th>1016</th>\n      <th>1017</th>\n      <th>1018</th>\n      <th>1019</th>\n      <th>1020</th>\n      <th>1021</th>\n      <th>1022</th>\n      <th>1023</th>\n    </tr>\n  </thead>\n  <tbody>\n    <tr>\n      <th>92363</th>\n      <td>185.0</td>\n      <td>0.000000</td>\n      <td>0.045257</td>\n      <td>0.000000</td>\n      <td>0.954743</td>\n      <td>0.467466</td>\n      <td>-0.600699</td>\n      <td>-0.064524</td>\n      <td>0.376413</td>\n      <td>-0.068793</td>\n      <td>...</td>\n      <td>0.412345</td>\n      <td>0.450144</td>\n      <td>-0.600133</td>\n      <td>-0.520319</td>\n      <td>-0.771693</td>\n      <td>0.466089</td>\n      <td>0.247871</td>\n      <td>-0.104830</td>\n      <td>0.616635</td>\n      <td>-0.328129</td>\n    </tr>\n    <tr>\n      <th>77727</th>\n      <td>150.0</td>\n      <td>0.000000</td>\n      <td>0.499053</td>\n      <td>0.000000</td>\n      <td>0.500947</td>\n      <td>0.262269</td>\n      <td>-0.456155</td>\n      <td>-0.042503</td>\n      <td>0.651579</td>\n      <td>0.213203</td>\n      <td>...</td>\n      <td>0.867257</td>\n      <td>0.355411</td>\n      <td>0.203387</td>\n      <td>-0.090610</td>\n      <td>-0.248212</td>\n      <td>-0.264797</td>\n      <td>-1.343360</td>\n      <td>-0.010906</td>\n      <td>-0.380042</td>\n      <td>1.474014</td>\n    </tr>\n    <tr>\n      <th>139350</th>\n      <td>278.0</td>\n      <td>0.000000</td>\n      <td>0.931581</td>\n      <td>0.000000</td>\n      <td>0.068419</td>\n      <td>-1.332942</td>\n      <td>-0.041151</td>\n      <td>0.203053</td>\n      <td>0.651909</td>\n      <td>0.446298</td>\n      <td>...</td>\n      <td>0.448418</td>\n      <td>0.108742</td>\n      <td>0.352745</td>\n      <td>-0.378012</td>\n      <td>-0.753991</td>\n      <td>0.104047</td>\n      <td>0.524538</td>\n      <td>1.070435</td>\n      <td>0.437897</td>\n      <td>0.541338</td>\n    </tr>\n    <tr>\n      <th>69000</th>\n      <td>137.0</td>\n      <td>0.000000</td>\n      <td>0.000000</td>\n      <td>0.921717</td>\n      <td>0.078283</td>\n      <td>0.425366</td>\n      <td>-0.465649</td>\n      <td>0.071921</td>\n      <td>0.002702</td>\n      <td>-0.165569</td>\n      <td>...</td>\n      <td>0.538711</td>\n      <td>0.020568</td>\n      <td>-0.440364</td>\n      <td>-0.081170</td>\n      <td>0.211666</td>\n      <td>0.290532</td>\n      <td>0.975800</td>\n      <td>-0.099532</td>\n      <td>0.017689</td>\n      <td>1.653601</td>\n    </tr>\n    <tr>\n      <th>89026</th>\n      <td>173.0</td>\n      <td>0.481692</td>\n      <td>0.000000</td>\n      <td>0.000000</td>\n      <td>0.518308</td>\n      <td>-0.992553</td>\n      <td>-0.738206</td>\n      <td>-0.120911</td>\n      <td>-0.425656</td>\n      <td>-0.219157</td>\n      <td>...</td>\n      <td>-0.521346</td>\n      <td>0.005987</td>\n      <td>-0.784533</td>\n      <td>-0.323727</td>\n      <td>0.599744</td>\n      <td>0.418889</td>\n      <td>-0.644446</td>\n      <td>-0.177309</td>\n      <td>-0.268331</td>\n      <td>0.961606</td>\n    </tr>\n    <tr>\n      <th>91260</th>\n      <td>183.0</td>\n      <td>0.000000</td>\n      <td>0.954743</td>\n      <td>0.045257</td>\n      <td>0.000000</td>\n      <td>-0.720938</td>\n      <td>-0.171053</td>\n      <td>0.813611</td>\n      <td>-0.528054</td>\n      <td>0.260393</td>\n      <td>...</td>\n      <td>0.413988</td>\n      <td>0.234117</td>\n      <td>-0.894479</td>\n      <td>0.818399</td>\n      <td>0.040712</td>\n      <td>0.631071</td>\n      <td>0.837460</td>\n      <td>-1.031578</td>\n      <td>-0.287701</td>\n      <td>-0.006030</td>\n    </tr>\n    <tr>\n      <th>78273</th>\n      <td>151.0</td>\n      <td>0.000000</td>\n      <td>0.000000</td>\n      <td>0.000000</td>\n      <td>1.000000</td>\n      <td>-0.957013</td>\n      <td>-0.882520</td>\n      <td>0.056991</td>\n      <td>0.454289</td>\n      <td>0.120172</td>\n      <td>...</td>\n      <td>-0.559451</td>\n      <td>-0.094861</td>\n      <td>-0.034048</td>\n      <td>-0.507262</td>\n      <td>0.951738</td>\n      <td>0.031587</td>\n      <td>-0.357187</td>\n      <td>-0.018120</td>\n      <td>-0.332243</td>\n      <td>0.625848</td>\n    </tr>\n    <tr>\n      <th>84369</th>\n      <td>162.0</td>\n      <td>0.777659</td>\n      <td>0.222341</td>\n      <td>0.000000</td>\n      <td>0.000000</td>\n      <td>-1.325772</td>\n      <td>-1.549626</td>\n      <td>0.049839</td>\n      <td>-0.912276</td>\n      <td>0.373589</td>\n      <td>...</td>\n      <td>0.105956</td>\n      <td>1.313978</td>\n      <td>-1.051894</td>\n      <td>0.810593</td>\n      <td>-0.393664</td>\n      <td>0.020662</td>\n      <td>0.087190</td>\n      <td>0.872844</td>\n      <td>-0.148570</td>\n      <td>2.081891</td>\n    </tr>\n    <tr>\n      <th>135297</th>\n      <td>271.0</td>\n      <td>0.000000</td>\n      <td>0.936080</td>\n      <td>0.000000</td>\n      <td>0.063920</td>\n      <td>-0.337102</td>\n      <td>0.062704</td>\n      <td>0.116531</td>\n      <td>0.877239</td>\n      <td>0.129245</td>\n      <td>...</td>\n      <td>0.110215</td>\n      <td>0.609147</td>\n      <td>0.639809</td>\n      <td>-0.102008</td>\n      <td>-0.252421</td>\n      <td>-0.269383</td>\n      <td>1.257458</td>\n      <td>0.772024</td>\n      <td>-0.178572</td>\n      <td>1.781861</td>\n    </tr>\n    <tr>\n      <th>96699</th>\n      <td>197.0</td>\n      <td>0.000000</td>\n      <td>0.107086</td>\n      <td>0.892914</td>\n      <td>0.000000</td>\n      <td>-0.131636</td>\n      <td>-0.164220</td>\n      <td>-0.013657</td>\n      <td>0.370069</td>\n      <td>-0.073336</td>\n      <td>...</td>\n      <td>0.153751</td>\n      <td>0.084073</td>\n      <td>-0.380775</td>\n      <td>-0.001490</td>\n      <td>0.109949</td>\n      <td>-0.613396</td>\n      <td>0.321450</td>\n      <td>0.449221</td>\n      <td>-0.076181</td>\n      <td>-0.904002</td>\n    </tr>\n  </tbody>\n</table>\n<p>10 rows × 1029 columns</p>\n</div>"
     },
     "execution_count": 5,
     "metadata": {},
     "output_type": "execute_result"
    }
   ],
   "source": [
    "train_data.sample(n=10)"
   ],
   "metadata": {
    "collapsed": false,
    "pycharm": {
     "name": "#%%\n"
    }
   }
  },
  {
   "cell_type": "code",
   "execution_count": null,
   "outputs": [],
   "source": [
    "import pandas as pd\n",
    "import tqdm\n",
    "import numpy as np\n",
    "\n",
    "def to_table(filepath: str):\n",
    "    table = pd.DataFrame(data=[], columns=['id_video', 'category_1', 'category_2', 'prob_1', 'prob_2'])\n",
    "    index = 0\n",
    "    with open(filepath, 'r') as file:\n",
    "        with tqdm.tqdm() as t:\n",
    "            while True:\n",
    "                line = file.readline()\n",
    "                if not line:\n",
    "                    break\n",
    "                line = line.strip()\n",
    "                line = line.split(', ')\n",
    "                id_video, category_1, category_2 = [int(float(value)) for value in line[:3]]\n",
    "                prob_1, prob_2 = [float(value) for value in line[3:5]]\n",
    "                embedding = np.array(line[5:], dtype=np.float32)\n",
    "                table.loc[index, 'id_video'] = id_video\n",
    "                table.loc[index, 'category_1'] = category_1\n",
    "                table.loc[index, 'category_2'] = category_2\n",
    "                table.loc[index, 'prob_1'] = prob_1\n",
    "                table.loc[index, 'prob_2'] = prob_2\n",
    "                table.loc[index, list(range(len(embedding)))] = np.reshape(embedding, newshape=(-1))\n",
    "                index += 1\n",
    "                t.set_description_str(filepath)\n",
    "                t.update(1)\n",
    "    return table"
   ],
   "metadata": {
    "collapsed": false,
    "pycharm": {
     "name": "#%%\n"
    }
   }
  },
  {
   "cell_type": "code",
   "execution_count": null,
   "outputs": [],
   "source": [
    "train_table = to_table('data/embeddings_2_train.txt')"
   ],
   "metadata": {
    "collapsed": false,
    "pycharm": {
     "name": "#%%\n"
    }
   }
  },
  {
   "cell_type": "code",
   "execution_count": null,
   "outputs": [],
   "source": [
    "train_table.to_csv('data/table.csv')\n",
    "del train_table"
   ],
   "metadata": {
    "collapsed": false,
    "pycharm": {
     "name": "#%%\n"
    }
   }
  },
  {
   "cell_type": "code",
   "execution_count": null,
   "outputs": [],
   "source": [
    "test_table = to_table('data/embeddings_2_test.txt')\n",
    "test_table.to_csv('data/test.csv')\n",
    "del test_table"
   ],
   "metadata": {
    "collapsed": false,
    "pycharm": {
     "name": "#%%\n"
    }
   }
  },
  {
   "cell_type": "code",
   "execution_count": null,
   "outputs": [],
   "source": [
    "train_table.head()"
   ],
   "metadata": {
    "collapsed": false,
    "pycharm": {
     "name": "#%%\n"
    }
   }
  },
  {
   "cell_type": "code",
   "execution_count": 1,
   "outputs": [
    {
     "data": {
      "text/plain": "   id_video    prob_1    prob_2    prob_3    prob_4         0         1  \\\n0       0.0  0.000000  0.000000  0.244673  0.755327 -0.503650 -0.397155   \n1       0.0  0.000000  0.000000  0.000000  1.000000 -0.578005  0.312923   \n2       0.0  0.000000  0.209912  0.000000  0.790088 -0.420616 -0.163201   \n3       0.0  0.183909  0.000000  0.000000  0.816091 -0.765086 -0.403441   \n4       0.0  0.000000  0.000000  0.000000  1.000000 -0.254308 -0.687083   \n\n          2         3         4  ...      1014      1015      1016      1017  \\\n0 -0.008947  0.397200  0.031454  ...  0.125768 -0.259977 -0.142573  0.019537   \n1  0.677774  0.700085 -0.123916  ... -0.587731  0.377209 -1.282490  0.850680   \n2  0.383056  0.409601 -0.056331  ...  0.435935 -0.062051 -0.439511  0.060940   \n3 -0.225890  0.162760  0.303554  ...  0.498021 -0.014023 -0.786539  0.308094   \n4 -0.097403  0.424565 -0.139256  ... -0.191618 -0.574989 -0.248220  0.299354   \n\n       1018      1019      1020      1021      1022      1023  \n0 -0.038435 -0.126272  0.172669  0.358814  0.201481  0.198124  \n1  0.431195 -0.083100  0.980267 -0.398450  0.135988  1.201336  \n2 -0.350307 -0.616671  0.255240 -0.237184 -0.654566  1.048519  \n3  0.479664 -0.302341  0.980229 -0.228967 -0.531902  0.204382  \n4 -0.079344  0.160159  0.649951 -0.019299 -0.576247  0.413660  \n\n[5 rows x 1029 columns]",
      "text/html": "<div>\n<style scoped>\n    .dataframe tbody tr th:only-of-type {\n        vertical-align: middle;\n    }\n\n    .dataframe tbody tr th {\n        vertical-align: top;\n    }\n\n    .dataframe thead th {\n        text-align: right;\n    }\n</style>\n<table border=\"1\" class=\"dataframe\">\n  <thead>\n    <tr style=\"text-align: right;\">\n      <th></th>\n      <th>id_video</th>\n      <th>prob_1</th>\n      <th>prob_2</th>\n      <th>prob_3</th>\n      <th>prob_4</th>\n      <th>0</th>\n      <th>1</th>\n      <th>2</th>\n      <th>3</th>\n      <th>4</th>\n      <th>...</th>\n      <th>1014</th>\n      <th>1015</th>\n      <th>1016</th>\n      <th>1017</th>\n      <th>1018</th>\n      <th>1019</th>\n      <th>1020</th>\n      <th>1021</th>\n      <th>1022</th>\n      <th>1023</th>\n    </tr>\n  </thead>\n  <tbody>\n    <tr>\n      <th>0</th>\n      <td>0.0</td>\n      <td>0.000000</td>\n      <td>0.000000</td>\n      <td>0.244673</td>\n      <td>0.755327</td>\n      <td>-0.503650</td>\n      <td>-0.397155</td>\n      <td>-0.008947</td>\n      <td>0.397200</td>\n      <td>0.031454</td>\n      <td>...</td>\n      <td>0.125768</td>\n      <td>-0.259977</td>\n      <td>-0.142573</td>\n      <td>0.019537</td>\n      <td>-0.038435</td>\n      <td>-0.126272</td>\n      <td>0.172669</td>\n      <td>0.358814</td>\n      <td>0.201481</td>\n      <td>0.198124</td>\n    </tr>\n    <tr>\n      <th>1</th>\n      <td>0.0</td>\n      <td>0.000000</td>\n      <td>0.000000</td>\n      <td>0.000000</td>\n      <td>1.000000</td>\n      <td>-0.578005</td>\n      <td>0.312923</td>\n      <td>0.677774</td>\n      <td>0.700085</td>\n      <td>-0.123916</td>\n      <td>...</td>\n      <td>-0.587731</td>\n      <td>0.377209</td>\n      <td>-1.282490</td>\n      <td>0.850680</td>\n      <td>0.431195</td>\n      <td>-0.083100</td>\n      <td>0.980267</td>\n      <td>-0.398450</td>\n      <td>0.135988</td>\n      <td>1.201336</td>\n    </tr>\n    <tr>\n      <th>2</th>\n      <td>0.0</td>\n      <td>0.000000</td>\n      <td>0.209912</td>\n      <td>0.000000</td>\n      <td>0.790088</td>\n      <td>-0.420616</td>\n      <td>-0.163201</td>\n      <td>0.383056</td>\n      <td>0.409601</td>\n      <td>-0.056331</td>\n      <td>...</td>\n      <td>0.435935</td>\n      <td>-0.062051</td>\n      <td>-0.439511</td>\n      <td>0.060940</td>\n      <td>-0.350307</td>\n      <td>-0.616671</td>\n      <td>0.255240</td>\n      <td>-0.237184</td>\n      <td>-0.654566</td>\n      <td>1.048519</td>\n    </tr>\n    <tr>\n      <th>3</th>\n      <td>0.0</td>\n      <td>0.183909</td>\n      <td>0.000000</td>\n      <td>0.000000</td>\n      <td>0.816091</td>\n      <td>-0.765086</td>\n      <td>-0.403441</td>\n      <td>-0.225890</td>\n      <td>0.162760</td>\n      <td>0.303554</td>\n      <td>...</td>\n      <td>0.498021</td>\n      <td>-0.014023</td>\n      <td>-0.786539</td>\n      <td>0.308094</td>\n      <td>0.479664</td>\n      <td>-0.302341</td>\n      <td>0.980229</td>\n      <td>-0.228967</td>\n      <td>-0.531902</td>\n      <td>0.204382</td>\n    </tr>\n    <tr>\n      <th>4</th>\n      <td>0.0</td>\n      <td>0.000000</td>\n      <td>0.000000</td>\n      <td>0.000000</td>\n      <td>1.000000</td>\n      <td>-0.254308</td>\n      <td>-0.687083</td>\n      <td>-0.097403</td>\n      <td>0.424565</td>\n      <td>-0.139256</td>\n      <td>...</td>\n      <td>-0.191618</td>\n      <td>-0.574989</td>\n      <td>-0.248220</td>\n      <td>0.299354</td>\n      <td>-0.079344</td>\n      <td>0.160159</td>\n      <td>0.649951</td>\n      <td>-0.019299</td>\n      <td>-0.576247</td>\n      <td>0.413660</td>\n    </tr>\n  </tbody>\n</table>\n<p>5 rows × 1029 columns</p>\n</div>"
     },
     "execution_count": 1,
     "metadata": {},
     "output_type": "execute_result"
    }
   ],
   "source": [
    "import pandas as pd\n",
    "train_table = pd.read_csv('data/embeddings_4_train.csv')\n",
    "test_table = pd.read_csv('data/embeddings_4_test.csv')\n",
    "train_table.head()"
   ],
   "metadata": {
    "collapsed": false,
    "pycharm": {
     "name": "#%%\n"
    }
   }
  },
  {
   "cell_type": "code",
   "execution_count": 2,
   "outputs": [
    {
     "data": {
      "text/plain": "   id_video    prob_1    prob_2    prob_3    prob_4         0         1  \\\n0       0.0  0.000000  0.000000  0.244673  0.755327 -0.503650 -0.397155   \n1       0.0  0.000000  0.000000  0.000000  1.000000 -0.578005  0.312923   \n2       0.0  0.000000  0.209912  0.000000  0.790088 -0.420616 -0.163201   \n3       0.0  0.183909  0.000000  0.000000  0.816091 -0.765086 -0.403441   \n4       0.0  0.000000  0.000000  0.000000  1.000000 -0.254308 -0.687083   \n\n          2         3         4  ...      1015      1016      1017      1018  \\\n0 -0.008947  0.397200  0.031454  ... -0.259977 -0.142573  0.019537 -0.038435   \n1  0.677774  0.700085 -0.123916  ...  0.377209 -1.282490  0.850680  0.431195   \n2  0.383056  0.409601 -0.056331  ... -0.062051 -0.439511  0.060940 -0.350307   \n3 -0.225890  0.162760  0.303554  ... -0.014023 -0.786539  0.308094  0.479664   \n4 -0.097403  0.424565 -0.139256  ... -0.574989 -0.248220  0.299354 -0.079344   \n\n       1019      1020      1021      1022      1023  category  \n0 -0.126272  0.172669  0.358814  0.201481  0.198124         3  \n1 -0.083100  0.980267 -0.398450  0.135988  1.201336         3  \n2 -0.616671  0.255240 -0.237184 -0.654566  1.048519         3  \n3 -0.302341  0.980229 -0.228967 -0.531902  0.204382         3  \n4  0.160159  0.649951 -0.019299 -0.576247  0.413660         3  \n\n[5 rows x 1030 columns]",
      "text/html": "<div>\n<style scoped>\n    .dataframe tbody tr th:only-of-type {\n        vertical-align: middle;\n    }\n\n    .dataframe tbody tr th {\n        vertical-align: top;\n    }\n\n    .dataframe thead th {\n        text-align: right;\n    }\n</style>\n<table border=\"1\" class=\"dataframe\">\n  <thead>\n    <tr style=\"text-align: right;\">\n      <th></th>\n      <th>id_video</th>\n      <th>prob_1</th>\n      <th>prob_2</th>\n      <th>prob_3</th>\n      <th>prob_4</th>\n      <th>0</th>\n      <th>1</th>\n      <th>2</th>\n      <th>3</th>\n      <th>4</th>\n      <th>...</th>\n      <th>1015</th>\n      <th>1016</th>\n      <th>1017</th>\n      <th>1018</th>\n      <th>1019</th>\n      <th>1020</th>\n      <th>1021</th>\n      <th>1022</th>\n      <th>1023</th>\n      <th>category</th>\n    </tr>\n  </thead>\n  <tbody>\n    <tr>\n      <th>0</th>\n      <td>0.0</td>\n      <td>0.000000</td>\n      <td>0.000000</td>\n      <td>0.244673</td>\n      <td>0.755327</td>\n      <td>-0.503650</td>\n      <td>-0.397155</td>\n      <td>-0.008947</td>\n      <td>0.397200</td>\n      <td>0.031454</td>\n      <td>...</td>\n      <td>-0.259977</td>\n      <td>-0.142573</td>\n      <td>0.019537</td>\n      <td>-0.038435</td>\n      <td>-0.126272</td>\n      <td>0.172669</td>\n      <td>0.358814</td>\n      <td>0.201481</td>\n      <td>0.198124</td>\n      <td>3</td>\n    </tr>\n    <tr>\n      <th>1</th>\n      <td>0.0</td>\n      <td>0.000000</td>\n      <td>0.000000</td>\n      <td>0.000000</td>\n      <td>1.000000</td>\n      <td>-0.578005</td>\n      <td>0.312923</td>\n      <td>0.677774</td>\n      <td>0.700085</td>\n      <td>-0.123916</td>\n      <td>...</td>\n      <td>0.377209</td>\n      <td>-1.282490</td>\n      <td>0.850680</td>\n      <td>0.431195</td>\n      <td>-0.083100</td>\n      <td>0.980267</td>\n      <td>-0.398450</td>\n      <td>0.135988</td>\n      <td>1.201336</td>\n      <td>3</td>\n    </tr>\n    <tr>\n      <th>2</th>\n      <td>0.0</td>\n      <td>0.000000</td>\n      <td>0.209912</td>\n      <td>0.000000</td>\n      <td>0.790088</td>\n      <td>-0.420616</td>\n      <td>-0.163201</td>\n      <td>0.383056</td>\n      <td>0.409601</td>\n      <td>-0.056331</td>\n      <td>...</td>\n      <td>-0.062051</td>\n      <td>-0.439511</td>\n      <td>0.060940</td>\n      <td>-0.350307</td>\n      <td>-0.616671</td>\n      <td>0.255240</td>\n      <td>-0.237184</td>\n      <td>-0.654566</td>\n      <td>1.048519</td>\n      <td>3</td>\n    </tr>\n    <tr>\n      <th>3</th>\n      <td>0.0</td>\n      <td>0.183909</td>\n      <td>0.000000</td>\n      <td>0.000000</td>\n      <td>0.816091</td>\n      <td>-0.765086</td>\n      <td>-0.403441</td>\n      <td>-0.225890</td>\n      <td>0.162760</td>\n      <td>0.303554</td>\n      <td>...</td>\n      <td>-0.014023</td>\n      <td>-0.786539</td>\n      <td>0.308094</td>\n      <td>0.479664</td>\n      <td>-0.302341</td>\n      <td>0.980229</td>\n      <td>-0.228967</td>\n      <td>-0.531902</td>\n      <td>0.204382</td>\n      <td>3</td>\n    </tr>\n    <tr>\n      <th>4</th>\n      <td>0.0</td>\n      <td>0.000000</td>\n      <td>0.000000</td>\n      <td>0.000000</td>\n      <td>1.000000</td>\n      <td>-0.254308</td>\n      <td>-0.687083</td>\n      <td>-0.097403</td>\n      <td>0.424565</td>\n      <td>-0.139256</td>\n      <td>...</td>\n      <td>-0.574989</td>\n      <td>-0.248220</td>\n      <td>0.299354</td>\n      <td>-0.079344</td>\n      <td>0.160159</td>\n      <td>0.649951</td>\n      <td>-0.019299</td>\n      <td>-0.576247</td>\n      <td>0.413660</td>\n      <td>3</td>\n    </tr>\n  </tbody>\n</table>\n<p>5 rows × 1030 columns</p>\n</div>"
     },
     "execution_count": 2,
     "metadata": {},
     "output_type": "execute_result"
    }
   ],
   "source": [
    "import numpy as np\n",
    "\n",
    "train_table['category'] = np.argmax(train_table.loc[:, 'prob_1': 'prob_4'].values, axis=1)\n",
    "test_table['category'] = np.argmax(test_table.loc[:, 'prob_1': 'prob_4'].values, axis=1)\n",
    "train_table.head()"
   ],
   "metadata": {
    "collapsed": false,
    "pycharm": {
     "name": "#%%\n"
    }
   }
  },
  {
   "cell_type": "code",
   "execution_count": 3,
   "outputs": [],
   "source": [
    "\n",
    "def get_balanced(table: pd.DataFrame) -> pd.DataFrame:\n",
    "    min_samples = table.groupby(by='category').count().min().min()\n",
    "\n",
    "    new_table = pd.DataFrame(data=[], columns=table.columns)\n",
    "    for category in table.category.unique():\n",
    "       samples = table[table.category == category]\n",
    "       samples = samples.sample(n=min_samples)\n",
    "       new_table = pd.concat([new_table, samples])\n",
    "    return new_table\n",
    "\n",
    "train_table = get_balanced(train_table)\n",
    "test_table = get_balanced(test_table)"
   ],
   "metadata": {
    "collapsed": false,
    "pycharm": {
     "name": "#%%\n"
    }
   }
  },
  {
   "cell_type": "code",
   "execution_count": 4,
   "outputs": [
    {
     "name": "stdout",
     "output_type": "stream",
     "text": [
      "50720 (50720, 1029)\n",
      "13748 (13748, 1029)\n"
     ]
    }
   ],
   "source": [
    "from dataset import EmbeddingsDataset\n",
    "\n",
    "train_table.drop(columns=['category'], inplace=True)\n",
    "test_table.drop(columns=['category'], inplace=True)\n",
    "train_dataset = EmbeddingsDataset(train_table)\n",
    "test_dataset = EmbeddingsDataset(test_table)"
   ],
   "metadata": {
    "collapsed": false,
    "pycharm": {
     "name": "#%%\n"
    }
   }
  },
  {
   "cell_type": "code",
   "execution_count": 5,
   "outputs": [
    {
     "data": {
      "text/plain": "<dataset.EmbeddingsDataset at 0x20fdaa96ca0>"
     },
     "execution_count": 5,
     "metadata": {},
     "output_type": "execute_result"
    }
   ],
   "source": [
    "train_dataset"
   ],
   "metadata": {
    "collapsed": false,
    "pycharm": {
     "name": "#%%\n"
    }
   }
  },
  {
   "cell_type": "code",
   "execution_count": 6,
   "outputs": [],
   "source": [
    "id_vid, emb, probs = train_dataset.__getitem__(0)"
   ],
   "metadata": {
    "collapsed": false,
    "pycharm": {
     "name": "#%%\n"
    }
   }
  },
  {
   "cell_type": "code",
   "execution_count": 22,
   "outputs": [
    {
     "data": {
      "text/plain": "Model(\n  (block_1): Sequential(\n    (0): Linear(in_features=1024, out_features=512, bias=True)\n    (1): ReLU()\n    (2): BatchNorm1d(512, eps=1e-05, momentum=0.1, affine=True, track_running_stats=True)\n  )\n  (block_2): Sequential(\n    (0): Linear(in_features=512, out_features=512, bias=True)\n    (1): ReLU()\n    (2): BatchNorm1d(512, eps=1e-05, momentum=0.1, affine=True, track_running_stats=True)\n  )\n  (block_3): Sequential(\n    (0): Linear(in_features=512, out_features=256, bias=True)\n    (1): ReLU()\n    (2): BatchNorm1d(256, eps=1e-05, momentum=0.1, affine=True, track_running_stats=True)\n  )\n  (block_4): Sequential(\n    (0): Linear(in_features=256, out_features=128, bias=True)\n    (1): ReLU()\n    (2): BatchNorm1d(128, eps=1e-05, momentum=0.1, affine=True, track_running_stats=True)\n  )\n  (block_5): Sequential(\n    (0): Linear(in_features=128, out_features=64, bias=True)\n    (1): ReLU()\n    (2): BatchNorm1d(64, eps=1e-05, momentum=0.1, affine=True, track_running_stats=True)\n  )\n  (head): Sequential(\n    (0): Linear(in_features=64, out_features=4, bias=True)\n    (1): Softmax(dim=1)\n  )\n)"
     },
     "execution_count": 22,
     "metadata": {},
     "output_type": "execute_result"
    }
   ],
   "source": [
    "from model import Model\n",
    "\n",
    "emb_model = Model()\n",
    "emb_model"
   ],
   "metadata": {
    "collapsed": false,
    "pycharm": {
     "name": "#%%\n"
    }
   }
  },
  {
   "cell_type": "code",
   "execution_count": 23,
   "outputs": [],
   "source": [
    "from torch.utils.data import DataLoader\n",
    "import torch\n",
    "\n",
    "train_loader = DataLoader(dataset=train_dataset, batch_size=16, shuffle=True)\n",
    "test_loader = DataLoader(dataset=test_dataset, batch_size=8)"
   ],
   "metadata": {
    "collapsed": false,
    "pycharm": {
     "name": "#%%\n"
    }
   }
  },
  {
   "cell_type": "code",
   "execution_count": 24,
   "outputs": [
    {
     "data": {
      "text/plain": "[tensor([ 44., 245., 297., 100., 192., 238., 166., 153., 263., 258., 129., 238.,\n         113., 287.,  19.,  18.], dtype=torch.float64),\n tensor([[-0.0487, -0.5687,  0.1623,  ...,  0.7306,  0.3420,  0.3149],\n         [-0.4848, -0.2440,  0.2006,  ..., -0.8710,  0.5237,  1.1965],\n         [ 0.3298, -0.4609, -0.2734,  ...,  0.1392, -0.0612,  0.4578],\n         ...,\n         [ 0.1398, -0.8176,  0.0817,  ...,  0.2679,  0.1423,  0.9097],\n         [ 0.1296, -1.2339,  0.5513,  ...,  0.8970, -0.5293, -0.7097],\n         [ 0.1266, -0.6160, -0.2999,  ..., -0.2242, -0.3634, -0.1362]]),\n tensor([[0.0818, 0.0000, 0.9182, 0.0000],\n         [0.0000, 0.0000, 1.0000, 0.0000],\n         [0.0000, 1.0000, 0.0000, 0.0000],\n         [0.1971, 0.0000, 0.8029, 0.0000],\n         [0.0000, 0.1489, 0.0000, 0.8511],\n         [0.0000, 0.7374, 0.0000, 0.2626],\n         [0.0000, 0.0550, 0.9450, 0.0000],\n         [0.0000, 0.8281, 0.0000, 0.1719],\n         [0.0000, 0.0000, 0.0000, 1.0000],\n         [0.7266, 0.2734, 0.0000, 0.0000],\n         [0.0000, 0.5581, 0.0000, 0.4419],\n         [0.0000, 1.0000, 0.0000, 0.0000],\n         [0.9565, 0.0435, 0.0000, 0.0000],\n         [0.0442, 0.9558, 0.0000, 0.0000],\n         [0.9517, 0.0000, 0.0000, 0.0483],\n         [0.1168, 0.8832, 0.0000, 0.0000]], dtype=torch.float64)]"
     },
     "execution_count": 24,
     "metadata": {},
     "output_type": "execute_result"
    }
   ],
   "source": [
    "next(iter(train_loader))"
   ],
   "metadata": {
    "collapsed": false,
    "pycharm": {
     "name": "#%%\n"
    }
   }
  },
  {
   "cell_type": "code",
   "execution_count": 25,
   "outputs": [],
   "source": [
    "from tqdm import tqdm\n",
    "from torch import nn\n",
    "\n",
    "loss_fn = nn.CrossEntropyLoss()\n",
    "optim = torch.optim.Adam(emb_model.parameters(), lr=0.0001, weight_decay=0.0005)\n",
    "scheduler = torch.optim.lr_scheduler.ExponentialLR(optim, gamma=0.95)\n",
    "\n",
    "def get_labels(vect: torch.Tensor):\n",
    "    pred_copy = vect.clone()\n",
    "    first_max = torch.argmax(pred_copy, dim=1)\n",
    "    first_max = torch.unsqueeze(first_max, dim=0)\n",
    "    pred_copy[list(range(pred_copy.shape[0])), first_max] = 0\n",
    "    second_max = torch.argmax(pred_copy, dim=1)\n",
    "    second_max = torch.unsqueeze(second_max, dim=0)\n",
    "    return torch.concat([first_max, second_max], dim=1)\n",
    "\n",
    "\n",
    "def cacl_accuracy(pred_vect: torch.Tensor, true_vect: torch.Tensor):\n",
    "    accuracy = torch.sum(pred_vect == true_vect)\n",
    "    accuracy += torch.sum(torch.fliplr(pred_vect) == true_vect)\n",
    "    accuracy = accuracy / (pred_vect.shape[0] * pred_vect.shape[1])\n",
    "    return accuracy\n",
    "\n",
    "\n",
    "def train_one_epoch(model_emb: Model, data_train_loader: DataLoader, epoch: int):\n",
    "    epoch_loss = 0\n",
    "    model_emb.train()\n",
    "    with tqdm(total=len(data_train_loader)) as t:\n",
    "        for j, train_data in enumerate(data_train_loader):\n",
    "            optim.zero_grad()\n",
    "            batch = train_data[1]\n",
    "            true_class = train_data[2]\n",
    "            out = model_emb(batch)\n",
    "            loss = loss_fn(true_class.float(), out.float())\n",
    "            epoch_loss += loss.item()\n",
    "            loss.backward()\n",
    "            optim.step()\n",
    "            t.update(1)\n",
    "            t.set_postfix_str(f'Epoch: {epoch} | Current loss: {epoch_loss / (j + 1)}')\n",
    "    # scheduler.step()\n",
    "    return epoch_loss / len(data_train_loader)\n",
    "\n",
    "\n",
    "def validate(model_emb: Model, data_test_loader: DataLoader, epoch: int):\n",
    "    model_emb.eval()\n",
    "    accuracy = 0\n",
    "    with tqdm(total=len(data_test_loader)) as t:\n",
    "        for j, test_data in enumerate(data_test_loader):\n",
    "            batch = test_data[1]\n",
    "            true_class = test_data[2]\n",
    "            out = model_emb(batch)\n",
    "            pred_labels = torch.argmax(out, dim=1)\n",
    "            true_labels = torch.argmax(true_class, dim=1)\n",
    "            accuracy += torch.sum((true_labels == pred_labels).to(dtype=torch.int8)) / out.shape[0]\n",
    "            t.update(1)\n",
    "            t.set_postfix_str(f'Epoch: {epoch} | Accuracy: {accuracy / (j + 1)}')\n",
    "    return accuracy / len(data_test_loader)\n",
    "\n",
    "def train(model_emb: Model, data_train_loader: DataLoader, data_test_loader: DataLoader, epochs: int =10):\n",
    "    losses = list()\n",
    "    accuracies = list()\n",
    "    best_accuracy = 0\n",
    "    best_weights = None\n",
    "    validate(model_emb, data_test_loader, 0)\n",
    "    for i in range(epochs):\n",
    "        losses.append(train_one_epoch(model_emb, data_train_loader, i + 1))\n",
    "        accuracies.append(validate(model_emb, data_test_loader, i + 1))\n",
    "        if accuracies[-1] > best_accuracy:\n",
    "            best_weights = model_emb.state_dict()\n",
    "            best_accuracy = accuracies[-1]\n",
    "    return losses, accuracies, best_weights\n"
   ],
   "metadata": {
    "collapsed": false,
    "pycharm": {
     "name": "#%%\n"
    }
   }
  },
  {
   "cell_type": "code",
   "execution_count": 26,
   "outputs": [
    {
     "name": "stderr",
     "output_type": "stream",
     "text": [
      "100%|██████████| 1719/1719 [00:08<00:00, 204.36it/s, Epoch: 0 | Accuracy: 0.24992728233337402] \n",
      "100%|██████████| 3170/3170 [00:54<00:00, 58.46it/s, Epoch: 1 | Current loss: 1.1031390275864947]\n",
      "100%|██████████| 1719/1719 [00:09<00:00, 182.07it/s, Epoch: 1 | Accuracy: 0.5541012287139893]\n",
      "100%|██████████| 3170/3170 [00:58<00:00, 53.76it/s, Epoch: 2 | Current loss: 1.040186085855171] \n",
      "100%|██████████| 1719/1719 [00:10<00:00, 164.25it/s, Epoch: 2 | Accuracy: 0.5759162306785583]\n",
      "100%|██████████| 3170/3170 [00:58<00:00, 53.99it/s, Epoch: 3 | Current loss: 1.0224634564637385]\n",
      "100%|██████████| 1719/1719 [00:09<00:00, 182.17it/s, Epoch: 3 | Accuracy: 0.6021669507026672]\n",
      "100%|██████████| 3170/3170 [00:55<00:00, 57.15it/s, Epoch: 4 | Current loss: 1.0133043828446782]\n",
      "100%|██████████| 1719/1719 [00:09<00:00, 174.10it/s, Epoch: 4 | Accuracy: 0.6020215153694153]\n",
      "100%|██████████| 3170/3170 [00:56<00:00, 55.94it/s, Epoch: 5 | Current loss: 1.0075930953965955]\n",
      "100%|██████████| 1719/1719 [00:09<00:00, 184.48it/s, Epoch: 5 | Accuracy: 0.6234729290008545]\n",
      "100%|██████████| 3170/3170 [00:55<00:00, 57.48it/s, Epoch: 6 | Current loss: 1.0020255052704916]\n",
      "100%|██████████| 1719/1719 [00:09<00:00, 188.63it/s, Epoch: 6 | Accuracy: 0.6374345421791077]\n",
      "100%|██████████| 3170/3170 [00:55<00:00, 57.61it/s, Epoch: 7 | Current loss: 0.9951995376908817]\n",
      "100%|██████████| 1719/1719 [00:09<00:00, 190.87it/s, Epoch: 7 | Accuracy: 0.6477603316307068]\n",
      "100%|██████████| 3170/3170 [00:53<00:00, 59.21it/s, Epoch: 8 | Current loss: 0.9887534518347177]\n",
      "100%|██████████| 1719/1719 [00:09<00:00, 189.69it/s, Epoch: 8 | Accuracy: 0.5987492799758911]\n",
      "100%|██████████| 3170/3170 [00:52<00:00, 60.25it/s, Epoch: 9 | Current loss: 0.9884758810515659]\n",
      "100%|██████████| 1719/1719 [00:09<00:00, 189.88it/s, Epoch: 9 | Accuracy: 0.6163467168807983]\n",
      "100%|██████████| 3170/3170 [00:52<00:00, 60.30it/s, Epoch: 10 | Current loss: 0.9854113023739884]\n",
      "100%|██████████| 1719/1719 [00:09<00:00, 189.80it/s, Epoch: 10 | Accuracy: 0.6235456466674805]\n"
     ]
    }
   ],
   "source": [
    "losses, accuracies, best_weights = train(emb_model, train_loader, test_loader, epochs=10)"
   ],
   "metadata": {
    "collapsed": false,
    "pycharm": {
     "name": "#%%\n"
    }
   }
  },
  {
   "cell_type": "code",
   "execution_count": 27,
   "outputs": [
    {
     "data": {
      "text/plain": "[<matplotlib.lines.Line2D at 0x2101e695910>]"
     },
     "execution_count": 27,
     "metadata": {},
     "output_type": "execute_result"
    },
    {
     "data": {
      "text/plain": "<Figure size 640x480 with 1 Axes>",
      "image/png": "[encoded data removed]"
     },
     "metadata": {},
     "output_type": "display_data"
    }
   ],
   "source": [
    "from matplotlib import pyplot as plt\n",
    "\n",
    "plt.plot(list(range(len(losses))), losses)"
   ],
   "metadata": {
    "collapsed": false,
    "pycharm": {
     "name": "#%%\n"
    }
   }
  },
  {
   "cell_type": "code",
   "execution_count": 28,
   "outputs": [
    {
     "data": {
      "text/plain": "[<matplotlib.lines.Line2D at 0x2101e6e6340>]"
     },
     "execution_count": 28,
     "metadata": {},
     "output_type": "execute_result"
    },
    {
     "data": {
      "text/plain": "<Figure size 640x480 with 1 Axes>",
      "image/png": "[encoded data removed]"
     },
     "metadata": {},
     "output_type": "display_data"
    }
   ],
   "source": [
    "plt.plot(list(range(len(losses))), accuracies)"
   ],
   "metadata": {
    "collapsed": false,
    "pycharm": {
     "name": "#%%\n"
    }
   }
  },
  {
   "cell_type": "code",
   "execution_count": 29,
   "outputs": [
    {
     "data": {
      "text/plain": "<All keys matched successfully>"
     },
     "execution_count": 29,
     "metadata": {},
     "output_type": "execute_result"
    }
   ],
   "source": [
    "emb_model.load_state_dict(best_weights)"
   ],
   "metadata": {
    "collapsed": false,
    "pycharm": {
     "name": "#%%\n"
    }
   }
  },
  {
   "cell_type": "code",
   "execution_count": 30,
   "outputs": [
    {
     "name": "stderr",
     "output_type": "stream",
     "text": [
      "100%|██████████| 50/50 [00:10<00:00,  4.66it/s, Video accuracy: 0.8]               \n"
     ]
    }
   ],
   "source": [
    "emb_model.eval()\n",
    "with torch.no_grad(), tqdm(total=len(np.unique(test_table.id_video.values))) as t:\n",
    "    accuracy = 0\n",
    "    for k, id_video in enumerate(np.unique(test_table.id_video.values)):\n",
    "        id_video_sample = test_table[test_table.id_video == id_video]\n",
    "        category = id_video_sample.loc[:, 'prob_1': 'prob_4'].iloc[0].values\n",
    "        video_category = np.argmax(category)\n",
    "        frames_categories = list()\n",
    "        for i in range(id_video_sample.shape[0]):\n",
    "            row = id_video_sample.iloc[i]\n",
    "            embedding = row[5:]\n",
    "            embedding = torch.tensor(embedding.values)\n",
    "            embedding = torch.unsqueeze(embedding, dim=0)\n",
    "            out = emb_model(embedding.float())\n",
    "            frames_categories.append(torch.argmax(out, dim=1)[0].cpu().numpy())\n",
    "\n",
    "        most_freq_value = max(frames_categories, key=frames_categories.count)\n",
    "        accuracy = (accuracy * k + int(most_freq_value == video_category)) / (k + 1)\n",
    "        t.set_postfix_str(f'Video accuracy: {accuracy}')\n",
    "        t.update(1)"
   ],
   "metadata": {
    "collapsed": false,
    "pycharm": {
     "name": "#%%\n"
    }
   }
  },
  {
   "cell_type": "code",
   "execution_count": null,
   "outputs": [],
   "source": [],
   "metadata": {
    "collapsed": false,
    "pycharm": {
     "name": "#%%\n"
    }
   }
  }
 ],
 "metadata": {
  "kernelspec": {
   "display_name": "Python 3",
   "language": "python",
   "name": "python3"
  },
  "language_info": {
   "codemirror_mode": {
    "name": "ipython",
    "version": 2
   },
   "file_extension": ".py",
   "mimetype": "text/x-python",
   "name": "python",
   "nbconvert_exporter": "python",
   "pygments_lexer": "ipython2",
   "version": "2.7.6"
  }
 },
 "nbformat": 4,
 "nbformat_minor": 0
}